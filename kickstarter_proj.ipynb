{
 "cells": [
  {
   "cell_type": "markdown",
   "metadata": {},
   "source": [
    "# Kickstarter project (need to spell check)\n",
    "## Our project for this semester is to try and predict whether a fundraising campaign in kickstarter will succeed or not.\n",
    "\n",
    "This type of prediction can actualy be useful in several scenarios, whether for an entrepreneur trying to evaluate his chances, the kickstarter company itself that would like to promote promising campaigns or for an investor considering backing a company.\n",
    "\n",
    "There are a few datasets available in kaggle such as: [here](https://www.kaggle.com/codename007/funding-successful-projects) and [here](https://www.kaggle.com/kemical/kickstarter-projects). These datasets are more limited timespan wise and in their richness of data. The dataset that we used in our project is offered [here](https://webrobots.io/kickstarter-datasets/). It is very large and somewhat messy, so our first steps are going to be devoted to get to know this dataset and clean it up so we can use it easily.\n",
    "\n",
    "The data is scraped over different periods, the last scrape is from Nov 2019 and contains 57 very large csv files. Our first step would be to unify it all (scrapes from 2015 onwards each containing about 100,000 records, with alot of overlaping) into a single dataframe, and explore the columns.\n",
    "If this looks alright, we'll add a few other generations to the data set and then start sanitzing it.\n",
    "\n",
    "\n",
    "# Note that this will download dataset of about 800MB and extract about 5GB of space on your computer.\n",
    "\n",
    "After dataset is saved as pickle, there is no longer a need for the extracted csv files"
   ]
  },
  {
   "cell_type": "code",
   "execution_count": 1,
   "metadata": {},
   "outputs": [],
   "source": [
    "import pandas as pd\n",
    "import matplotlib.pyplot as plt\n",
    "import dataCleaning as dc\n",
    "import visio\n",
    "import seaborn as sns\n",
    "%matplotlib inline"
   ]
  },
  {
   "cell_type": "code",
   "execution_count": 2,
   "metadata": {
    "scrolled": true
   },
   "outputs": [
    {
     "name": "stdout",
     "output_type": "stream",
     "text": [
      "read dataframe from cache rick.pickle\n"
     ]
    },
    {
     "data": {
      "text/html": [
       "<div>\n",
       "<style scoped>\n",
       "    .dataframe tbody tr th:only-of-type {\n",
       "        vertical-align: middle;\n",
       "    }\n",
       "\n",
       "    .dataframe tbody tr th {\n",
       "        vertical-align: top;\n",
       "    }\n",
       "\n",
       "    .dataframe thead th {\n",
       "        text-align: right;\n",
       "    }\n",
       "</style>\n",
       "<table border=\"1\" class=\"dataframe\">\n",
       "  <thead>\n",
       "    <tr style=\"text-align: right;\">\n",
       "      <th></th>\n",
       "      <th>backers_count</th>\n",
       "      <th>blurb</th>\n",
       "      <th>category</th>\n",
       "      <th>converted_pledged_amount</th>\n",
       "      <th>country</th>\n",
       "      <th>country_displayable_name</th>\n",
       "      <th>created_at</th>\n",
       "      <th>creator</th>\n",
       "      <th>currency</th>\n",
       "      <th>currency_symbol</th>\n",
       "      <th>...</th>\n",
       "      <th>staff_pick</th>\n",
       "      <th>state</th>\n",
       "      <th>state_changed_at</th>\n",
       "      <th>static_usd_rate</th>\n",
       "      <th>total_hits</th>\n",
       "      <th>unread_messages_count</th>\n",
       "      <th>unseen_activity_count</th>\n",
       "      <th>urls</th>\n",
       "      <th>usd_pledged</th>\n",
       "      <th>usd_type</th>\n",
       "    </tr>\n",
       "  </thead>\n",
       "  <tbody>\n",
       "    <tr>\n",
       "      <th>351939</th>\n",
       "      <td>NaN</td>\n",
       "      <td>NaN</td>\n",
       "      <td>NaN</td>\n",
       "      <td>NaN</td>\n",
       "      <td>NaN</td>\n",
       "      <td>NaN</td>\n",
       "      <td>NaN</td>\n",
       "      <td>NaN</td>\n",
       "      <td>NaN</td>\n",
       "      <td>NaN</td>\n",
       "      <td>...</td>\n",
       "      <td>NaN</td>\n",
       "      <td>NaN</td>\n",
       "      <td>NaN</td>\n",
       "      <td>NaN</td>\n",
       "      <td>19884.0</td>\n",
       "      <td>NaN</td>\n",
       "      <td>NaN</td>\n",
       "      <td>NaN</td>\n",
       "      <td>NaN</td>\n",
       "      <td>NaN</td>\n",
       "    </tr>\n",
       "    <tr>\n",
       "      <th>0</th>\n",
       "      <td>68.0</td>\n",
       "      <td>An anthology of stories about Girls and mythic...</td>\n",
       "      <td>{\"id\":324,\"name\":\"Anthologies\",\"slug\":\"publish...</td>\n",
       "      <td>2914.0</td>\n",
       "      <td>CA</td>\n",
       "      <td>Canada</td>\n",
       "      <td>1.568573e+09</td>\n",
       "      <td>{\"id\":1114868812,\"name\":\"Alex McGilvery\",\"slug...</td>\n",
       "      <td>CAD</td>\n",
       "      <td>$</td>\n",
       "      <td>...</td>\n",
       "      <td>False</td>\n",
       "      <td>successful</td>\n",
       "      <td>1.573710e+09</td>\n",
       "      <td>0.757088</td>\n",
       "      <td>NaN</td>\n",
       "      <td>NaN</td>\n",
       "      <td>NaN</td>\n",
       "      <td>{\"web\":{\"project\":\"https://www.kickstarter.com...</td>\n",
       "      <td>2925.608515</td>\n",
       "      <td>domestic</td>\n",
       "    </tr>\n",
       "    <tr>\n",
       "      <th>1</th>\n",
       "      <td>0.0</td>\n",
       "      <td>This horror short film is about a school camp ...</td>\n",
       "      <td>{\"id\":297,\"name\":\"Horror\",\"slug\":\"film &amp; video...</td>\n",
       "      <td>0.0</td>\n",
       "      <td>AU</td>\n",
       "      <td>Australia</td>\n",
       "      <td>1.572763e+09</td>\n",
       "      <td>{\"id\":132169953,\"name\":\"LouisB\",\"slug\":\"louisb...</td>\n",
       "      <td>AUD</td>\n",
       "      <td>$</td>\n",
       "      <td>...</td>\n",
       "      <td>False</td>\n",
       "      <td>live</td>\n",
       "      <td>1.573706e+09</td>\n",
       "      <td>0.684319</td>\n",
       "      <td>NaN</td>\n",
       "      <td>NaN</td>\n",
       "      <td>NaN</td>\n",
       "      <td>{\"web\":{\"project\":\"https://www.kickstarter.com...</td>\n",
       "      <td>0.000000</td>\n",
       "      <td>international</td>\n",
       "    </tr>\n",
       "    <tr>\n",
       "      <th>2</th>\n",
       "      <td>0.0</td>\n",
       "      <td>I designed a mouse that can generate heat, it ...</td>\n",
       "      <td>{\"id\":337,\"name\":\"Gadgets\",\"slug\":\"technology/...</td>\n",
       "      <td>0.0</td>\n",
       "      <td>HK</td>\n",
       "      <td>Hong Kong</td>\n",
       "      <td>1.570872e+09</td>\n",
       "      <td>{\"id\":736392141,\"name\":\"Zhijian Yijia\",\"slug\":...</td>\n",
       "      <td>HKD</td>\n",
       "      <td>$</td>\n",
       "      <td>...</td>\n",
       "      <td>False</td>\n",
       "      <td>live</td>\n",
       "      <td>1.573705e+09</td>\n",
       "      <td>0.127696</td>\n",
       "      <td>NaN</td>\n",
       "      <td>NaN</td>\n",
       "      <td>NaN</td>\n",
       "      <td>{\"web\":{\"project\":\"https://www.kickstarter.com...</td>\n",
       "      <td>0.000000</td>\n",
       "      <td>NaN</td>\n",
       "    </tr>\n",
       "    <tr>\n",
       "      <th>3</th>\n",
       "      <td>5.0</td>\n",
       "      <td>\"The clothing brand which that brings to life ...</td>\n",
       "      <td>{\"id\":263,\"name\":\"Apparel\",\"slug\":\"fashion/app...</td>\n",
       "      <td>11.0</td>\n",
       "      <td>ES</td>\n",
       "      <td>Spain</td>\n",
       "      <td>1.571086e+09</td>\n",
       "      <td>{\"id\":1577671901,\"name\":\"Fran Domínguez\",\"slug...</td>\n",
       "      <td>EUR</td>\n",
       "      <td>€</td>\n",
       "      <td>...</td>\n",
       "      <td>False</td>\n",
       "      <td>failed</td>\n",
       "      <td>1.573704e+09</td>\n",
       "      <td>1.103099</td>\n",
       "      <td>NaN</td>\n",
       "      <td>NaN</td>\n",
       "      <td>NaN</td>\n",
       "      <td>{\"web\":{\"project\":\"https://www.kickstarter.com...</td>\n",
       "      <td>11.030989</td>\n",
       "      <td>domestic</td>\n",
       "    </tr>\n",
       "  </tbody>\n",
       "</table>\n",
       "<p>5 rows × 46 columns</p>\n",
       "</div>"
      ],
      "text/plain": [
       "        backers_count                                              blurb  \\\n",
       "351939            NaN                                                NaN   \n",
       "0                68.0  An anthology of stories about Girls and mythic...   \n",
       "1                 0.0  This horror short film is about a school camp ...   \n",
       "2                 0.0  I designed a mouse that can generate heat, it ...   \n",
       "3                 5.0  \"The clothing brand which that brings to life ...   \n",
       "\n",
       "                                                 category  \\\n",
       "351939                                                NaN   \n",
       "0       {\"id\":324,\"name\":\"Anthologies\",\"slug\":\"publish...   \n",
       "1       {\"id\":297,\"name\":\"Horror\",\"slug\":\"film & video...   \n",
       "2       {\"id\":337,\"name\":\"Gadgets\",\"slug\":\"technology/...   \n",
       "3       {\"id\":263,\"name\":\"Apparel\",\"slug\":\"fashion/app...   \n",
       "\n",
       "        converted_pledged_amount country country_displayable_name  \\\n",
       "351939                       NaN     NaN                      NaN   \n",
       "0                         2914.0      CA                   Canada   \n",
       "1                            0.0      AU                Australia   \n",
       "2                            0.0      HK                Hong Kong   \n",
       "3                           11.0      ES                    Spain   \n",
       "\n",
       "          created_at                                            creator  \\\n",
       "351939           NaN                                                NaN   \n",
       "0       1.568573e+09  {\"id\":1114868812,\"name\":\"Alex McGilvery\",\"slug...   \n",
       "1       1.572763e+09  {\"id\":132169953,\"name\":\"LouisB\",\"slug\":\"louisb...   \n",
       "2       1.570872e+09  {\"id\":736392141,\"name\":\"Zhijian Yijia\",\"slug\":...   \n",
       "3       1.571086e+09  {\"id\":1577671901,\"name\":\"Fran Domínguez\",\"slug...   \n",
       "\n",
       "       currency currency_symbol  ... staff_pick       state  state_changed_at  \\\n",
       "351939      NaN             NaN  ...        NaN         NaN               NaN   \n",
       "0           CAD               $  ...      False  successful      1.573710e+09   \n",
       "1           AUD               $  ...      False        live      1.573706e+09   \n",
       "2           HKD               $  ...      False        live      1.573705e+09   \n",
       "3           EUR               €  ...      False      failed      1.573704e+09   \n",
       "\n",
       "       static_usd_rate total_hits  unread_messages_count  \\\n",
       "351939             NaN    19884.0                    NaN   \n",
       "0             0.757088        NaN                    NaN   \n",
       "1             0.684319        NaN                    NaN   \n",
       "2             0.127696        NaN                    NaN   \n",
       "3             1.103099        NaN                    NaN   \n",
       "\n",
       "        unseen_activity_count  \\\n",
       "351939                    NaN   \n",
       "0                         NaN   \n",
       "1                         NaN   \n",
       "2                         NaN   \n",
       "3                         NaN   \n",
       "\n",
       "                                                     urls  usd_pledged  \\\n",
       "351939                                                NaN          NaN   \n",
       "0       {\"web\":{\"project\":\"https://www.kickstarter.com...  2925.608515   \n",
       "1       {\"web\":{\"project\":\"https://www.kickstarter.com...     0.000000   \n",
       "2       {\"web\":{\"project\":\"https://www.kickstarter.com...     0.000000   \n",
       "3       {\"web\":{\"project\":\"https://www.kickstarter.com...    11.030989   \n",
       "\n",
       "             usd_type  \n",
       "351939            NaN  \n",
       "0            domestic  \n",
       "1       international  \n",
       "2                 NaN  \n",
       "3            domestic  \n",
       "\n",
       "[5 rows x 46 columns]"
      ]
     },
     "execution_count": 2,
     "metadata": {},
     "output_type": "execute_result"
    }
   ],
   "source": [
    "df = dc.make_dataframe(path=r'rawData') #Files are assumed to be located in rawData sub.dir. caches pickle in cwd.\n",
    "#print first few rows\n",
    "df.head()"
   ]
  },
  {
   "cell_type": "markdown",
   "metadata": {},
   "source": [
    "Great! Let's get a few details about this data: What are the features, how many records exist:"
   ]
  },
  {
   "cell_type": "code",
   "execution_count": 3,
   "metadata": {},
   "outputs": [
    {
     "name": "stdout",
     "output_type": "stream",
     "text": [
      "['backers_count', 'blurb', 'category', 'converted_pledged_amount', 'country', 'country_displayable_name', 'created_at', 'creator', 'currency', 'currency_symbol', 'currency_trailing_code', 'current_currency', 'deadline', 'disable_communication', 'friends', 'fx_rate', 'goal', 'has_more', 'id', 'is_backing', 'is_starrable', 'is_starred', 'last_update_published_at', 'launched_at', 'location', 'name', 'permissions', 'photo', 'pledged', 'profile', 'projects', 'search_url', 'seed', 'slug', 'source_url', 'spotlight', 'staff_pick', 'state', 'state_changed_at', 'static_usd_rate', 'total_hits', 'unread_messages_count', 'unseen_activity_count', 'urls', 'usd_pledged', 'usd_type']\n",
      "\n",
      "There are originaly  351,940 records in data\n"
     ]
    }
   ],
   "source": [
    "cols = list(df.columns.values)\n",
    "print(cols)\n",
    "num_recs = len(df.index)\n",
    "print()\n",
    "print('There are originaly ', f'{num_recs:,}' , 'records in data')"
   ]
  },
  {
   "cell_type": "markdown",
   "metadata": {},
   "source": [
    "Taking a first peek at the data via Excel hints that there are many empty columns:\n",
    "![peek](img/firstPeek.png)\n",
    "\n",
    "Let's see what columns contain mostly null values:\n"
   ]
  },
  {
   "cell_type": "code",
   "execution_count": 4,
   "metadata": {
    "scrolled": true
   },
   "outputs": [
    {
     "name": "stdout",
     "output_type": "stream",
     "text": [
      "backers_count                    1\n",
      "blurb                           19\n",
      "category                         1\n",
      "converted_pledged_amount    241667\n",
      "country                          1\n",
      "country_displayable_name    340125\n",
      "created_at                       1\n",
      "creator                          1\n",
      "currency                         1\n",
      "currency_symbol                  1\n",
      "currency_trailing_code           1\n",
      "current_currency            241667\n",
      "deadline                         1\n",
      "disable_communication            1\n",
      "friends                     350169\n",
      "fx_rate                     246632\n",
      "goal                             1\n",
      "has_more                    351939\n",
      "id                               1\n",
      "is_backing                  350169\n",
      "is_starrable                236264\n",
      "is_starred                  350169\n",
      "last_update_published_at    351940\n",
      "launched_at                      1\n",
      "location                      1106\n",
      "name                             4\n",
      "permissions                 350289\n",
      "photo                            1\n",
      "pledged                          1\n",
      "profile                          1\n",
      "projects                    351939\n",
      "search_url                  351939\n",
      "seed                        351939\n",
      "slug                             1\n",
      "source_url                   23829\n",
      "spotlight                        1\n",
      "staff_pick                   95938\n",
      "state                            1\n",
      "state_changed_at                 1\n",
      "static_usd_rate                  1\n",
      "total_hits                  351939\n",
      "unread_messages_count       351940\n",
      "unseen_activity_count       351940\n",
      "urls                             1\n",
      "usd_pledged                      1\n",
      "usd_type                    243361\n",
      "dtype: int64\n"
     ]
    }
   ],
   "source": [
    "nes = df.isna().sum()\n",
    "print(nes)"
   ]
  },
  {
   "cell_type": "markdown",
   "metadata": {},
   "source": [
    "We're not missing anything too important so far (though some sound important they are either not used or interchangable with other fields that are kept). Off with their head!"
   ]
  },
  {
   "cell_type": "code",
   "execution_count": 5,
   "metadata": {},
   "outputs": [
    {
     "name": "stdout",
     "output_type": "stream",
     "text": [
      "['backers_count', 'blurb', 'category', 'country', 'created_at', 'creator', 'currency', 'currency_symbol', 'currency_trailing_code', 'deadline', 'disable_communication', 'goal', 'id', 'launched_at', 'location', 'name', 'photo', 'pledged', 'profile', 'slug', 'source_url', 'spotlight', 'state', 'state_changed_at', 'static_usd_rate', 'urls', 'usd_pledged']\n"
     ]
    }
   ],
   "source": [
    "empty = {'friends','is_backing','is_starred','is_starrable','permissions','country_displayable_name','converted_pledged_amount',\n",
    "         'current_currency','usd_type','fx_rate', 'has_more','last_update_published_at','projects','search_url','seed','staff_pick','total_hits','unread_messages_count','unseen_activity_count'}\n",
    "letgo = [name for name in empty if name in cols]\n",
    "df.drop(columns=letgo,inplace=True)\n",
    "cols = list(df.columns.values)\n",
    "print(cols)"
   ]
  },
  {
   "cell_type": "markdown",
   "metadata": {},
   "source": [
    "We can already see redundant attributes which we are sure we will not need:\n",
    "- Data that is used for display purpases: such as 'currency_symbol', 'currency_trailing_code'.\n",
    "- Data that is biased: such as backers count (This is part of the prediction), or disable_communication which is an option for failed projects \n",
    "- Data that will not be used by our model: location, 'profile', 'urls','usd_type', 'location'.\n",
    "Let's start with dropping these.\n",
    "\n",
    "Looks like we can drop 'friends','is_backing','is_starred','permissions' as they are basicaly empty."
   ]
  },
  {
   "cell_type": "code",
   "execution_count": 6,
   "metadata": {},
   "outputs": [
    {
     "name": "stdout",
     "output_type": "stream",
     "text": [
      "['backers_count', 'blurb', 'category', 'country', 'created_at', 'creator', 'currency', 'currency_symbol', 'currency_trailing_code', 'deadline', 'disable_communication', 'goal', 'id', 'launched_at', 'location', 'name', 'photo', 'pledged', 'profile', 'slug', 'source_url', 'spotlight', 'state', 'state_changed_at', 'static_usd_rate', 'urls', 'usd_pledged']\n"
     ]
    }
   ],
   "source": [
    "redundant = {'backers_count','currency_symbol', 'currency_trailing_code','source_url','disable_communication',\n",
    "             'profile','urls','location','spotlight','usd_pledged'}\n",
    "letgo = [name for name in empty if name in cols]\n",
    "df.drop(columns=letgo, inplace=True)\n",
    "cols = list(df.columns.values)\n",
    "print(cols)"
   ]
  },
  {
   "cell_type": "markdown",
   "metadata": {},
   "source": [
    "From looking at the data we can also see that the time fields are given in UNIX time. It'll be usefull ahead if we can break each date into a day month year trio. We'll run the conversion and replace each column with the corresponding 3 fields."
   ]
  },
  {
   "cell_type": "code",
   "execution_count": 7,
   "metadata": {},
   "outputs": [
    {
     "name": "stdout",
     "output_type": "stream",
     "text": [
      "sanity check\n"
     ]
    },
    {
     "data": {
      "text/html": [
       "<div>\n",
       "<style scoped>\n",
       "    .dataframe tbody tr th:only-of-type {\n",
       "        vertical-align: middle;\n",
       "    }\n",
       "\n",
       "    .dataframe tbody tr th {\n",
       "        vertical-align: top;\n",
       "    }\n",
       "\n",
       "    .dataframe thead th {\n",
       "        text-align: right;\n",
       "    }\n",
       "</style>\n",
       "<table border=\"1\" class=\"dataframe\">\n",
       "  <thead>\n",
       "    <tr style=\"text-align: right;\">\n",
       "      <th></th>\n",
       "      <th>backers_count</th>\n",
       "      <th>blurb</th>\n",
       "      <th>category</th>\n",
       "      <th>country</th>\n",
       "      <th>created_at</th>\n",
       "      <th>creator</th>\n",
       "      <th>currency</th>\n",
       "      <th>currency_symbol</th>\n",
       "      <th>currency_trailing_code</th>\n",
       "      <th>deadline</th>\n",
       "      <th>...</th>\n",
       "      <th>pledged</th>\n",
       "      <th>profile</th>\n",
       "      <th>slug</th>\n",
       "      <th>source_url</th>\n",
       "      <th>spotlight</th>\n",
       "      <th>state</th>\n",
       "      <th>state_changed_at</th>\n",
       "      <th>static_usd_rate</th>\n",
       "      <th>urls</th>\n",
       "      <th>usd_pledged</th>\n",
       "    </tr>\n",
       "  </thead>\n",
       "  <tbody>\n",
       "    <tr>\n",
       "      <th>0</th>\n",
       "      <td>68.0</td>\n",
       "      <td>An anthology of stories about Girls and mythic...</td>\n",
       "      <td>{\"id\":324,\"name\":\"Anthologies\",\"slug\":\"publish...</td>\n",
       "      <td>CA</td>\n",
       "      <td>2019-09-15 18:37:57</td>\n",
       "      <td>{\"id\":1114868812,\"name\":\"Alex McGilvery\",\"slug...</td>\n",
       "      <td>CAD</td>\n",
       "      <td>$</td>\n",
       "      <td>True</td>\n",
       "      <td>2019-11-14 05:35:09</td>\n",
       "      <td>...</td>\n",
       "      <td>3864.29</td>\n",
       "      <td>{\"id\":3813769,\"project_id\":3813769,\"state\":\"in...</td>\n",
       "      <td>mythical-girls</td>\n",
       "      <td>https://www.kickstarter.com/discover/categorie...</td>\n",
       "      <td>True</td>\n",
       "      <td>successful</td>\n",
       "      <td>2019-11-14 05:35:10</td>\n",
       "      <td>0.757088</td>\n",
       "      <td>{\"web\":{\"project\":\"https://www.kickstarter.com...</td>\n",
       "      <td>2925.608515</td>\n",
       "    </tr>\n",
       "    <tr>\n",
       "      <th>1</th>\n",
       "      <td>0.0</td>\n",
       "      <td>This horror short film is about a school camp ...</td>\n",
       "      <td>{\"id\":297,\"name\":\"Horror\",\"slug\":\"film &amp; video...</td>\n",
       "      <td>AU</td>\n",
       "      <td>2019-11-03 06:38:09</td>\n",
       "      <td>{\"id\":132169953,\"name\":\"LouisB\",\"slug\":\"louisb...</td>\n",
       "      <td>AUD</td>\n",
       "      <td>$</td>\n",
       "      <td>True</td>\n",
       "      <td>2019-12-14 12:59:00</td>\n",
       "      <td>...</td>\n",
       "      <td>0.00</td>\n",
       "      <td>{\"id\":3845194,\"project_id\":3845194,\"state\":\"in...</td>\n",
       "      <td>kill-die-or-survive</td>\n",
       "      <td>https://www.kickstarter.com/discover/categorie...</td>\n",
       "      <td>False</td>\n",
       "      <td>live</td>\n",
       "      <td>2019-11-14 04:39:34</td>\n",
       "      <td>0.684319</td>\n",
       "      <td>{\"web\":{\"project\":\"https://www.kickstarter.com...</td>\n",
       "      <td>0.000000</td>\n",
       "    </tr>\n",
       "    <tr>\n",
       "      <th>2</th>\n",
       "      <td>0.0</td>\n",
       "      <td>I designed a mouse that can generate heat, it ...</td>\n",
       "      <td>{\"id\":337,\"name\":\"Gadgets\",\"slug\":\"technology/...</td>\n",
       "      <td>HK</td>\n",
       "      <td>2019-10-12 09:25:29</td>\n",
       "      <td>{\"id\":736392141,\"name\":\"Zhijian Yijia\",\"slug\":...</td>\n",
       "      <td>HKD</td>\n",
       "      <td>$</td>\n",
       "      <td>True</td>\n",
       "      <td>2019-12-14 04:18:15</td>\n",
       "      <td>...</td>\n",
       "      <td>0.00</td>\n",
       "      <td>{\"id\":3831195,\"project_id\":3831195,\"state\":\"in...</td>\n",
       "      <td>a-mouse-that-can-warm-your-hands-in-winter</td>\n",
       "      <td>https://www.kickstarter.com/discover/categorie...</td>\n",
       "      <td>False</td>\n",
       "      <td>live</td>\n",
       "      <td>2019-11-14 04:18:16</td>\n",
       "      <td>0.127696</td>\n",
       "      <td>{\"web\":{\"project\":\"https://www.kickstarter.com...</td>\n",
       "      <td>0.000000</td>\n",
       "    </tr>\n",
       "    <tr>\n",
       "      <th>3</th>\n",
       "      <td>5.0</td>\n",
       "      <td>\"The clothing brand which that brings to life ...</td>\n",
       "      <td>{\"id\":263,\"name\":\"Apparel\",\"slug\":\"fashion/app...</td>\n",
       "      <td>ES</td>\n",
       "      <td>2019-10-14 20:49:25</td>\n",
       "      <td>{\"id\":1577671901,\"name\":\"Fran Domínguez\",\"slug...</td>\n",
       "      <td>EUR</td>\n",
       "      <td>€</td>\n",
       "      <td>False</td>\n",
       "      <td>2019-11-14 04:04:51</td>\n",
       "      <td>...</td>\n",
       "      <td>10.00</td>\n",
       "      <td>{\"id\":3832688,\"project_id\":3832688,\"state\":\"in...</td>\n",
       "      <td>postugramer</td>\n",
       "      <td>https://www.kickstarter.com/discover/categorie...</td>\n",
       "      <td>False</td>\n",
       "      <td>failed</td>\n",
       "      <td>2019-11-14 04:04:51</td>\n",
       "      <td>1.103099</td>\n",
       "      <td>{\"web\":{\"project\":\"https://www.kickstarter.com...</td>\n",
       "      <td>11.030989</td>\n",
       "    </tr>\n",
       "    <tr>\n",
       "      <th>4</th>\n",
       "      <td>2.0</td>\n",
       "      <td>Soy for joy.</td>\n",
       "      <td>{\"id\":343,\"name\":\"Candles\",\"slug\":\"crafts/cand...</td>\n",
       "      <td>SG</td>\n",
       "      <td>2019-09-30 08:55:30</td>\n",
       "      <td>{\"id\":592619042,\"name\":\"Talitha Kumia Darmo\",\"...</td>\n",
       "      <td>SGD</td>\n",
       "      <td>$</td>\n",
       "      <td>True</td>\n",
       "      <td>2019-11-14 04:00:00</td>\n",
       "      <td>...</td>\n",
       "      <td>4.00</td>\n",
       "      <td>{\"id\":3823347,\"project_id\":3823347,\"state\":\"in...</td>\n",
       "      <td>kandel-sustainable-scented-candles</td>\n",
       "      <td>https://www.kickstarter.com/discover/categorie...</td>\n",
       "      <td>False</td>\n",
       "      <td>failed</td>\n",
       "      <td>2019-11-14 04:00:01</td>\n",
       "      <td>0.733089</td>\n",
       "      <td>{\"web\":{\"project\":\"https://www.kickstarter.com...</td>\n",
       "      <td>2.932358</td>\n",
       "    </tr>\n",
       "  </tbody>\n",
       "</table>\n",
       "<p>5 rows × 27 columns</p>\n",
       "</div>"
      ],
      "text/plain": [
       "   backers_count                                              blurb  \\\n",
       "0           68.0  An anthology of stories about Girls and mythic...   \n",
       "1            0.0  This horror short film is about a school camp ...   \n",
       "2            0.0  I designed a mouse that can generate heat, it ...   \n",
       "3            5.0  \"The clothing brand which that brings to life ...   \n",
       "4            2.0                                       Soy for joy.   \n",
       "\n",
       "                                            category country  \\\n",
       "0  {\"id\":324,\"name\":\"Anthologies\",\"slug\":\"publish...      CA   \n",
       "1  {\"id\":297,\"name\":\"Horror\",\"slug\":\"film & video...      AU   \n",
       "2  {\"id\":337,\"name\":\"Gadgets\",\"slug\":\"technology/...      HK   \n",
       "3  {\"id\":263,\"name\":\"Apparel\",\"slug\":\"fashion/app...      ES   \n",
       "4  {\"id\":343,\"name\":\"Candles\",\"slug\":\"crafts/cand...      SG   \n",
       "\n",
       "           created_at                                            creator  \\\n",
       "0 2019-09-15 18:37:57  {\"id\":1114868812,\"name\":\"Alex McGilvery\",\"slug...   \n",
       "1 2019-11-03 06:38:09  {\"id\":132169953,\"name\":\"LouisB\",\"slug\":\"louisb...   \n",
       "2 2019-10-12 09:25:29  {\"id\":736392141,\"name\":\"Zhijian Yijia\",\"slug\":...   \n",
       "3 2019-10-14 20:49:25  {\"id\":1577671901,\"name\":\"Fran Domínguez\",\"slug...   \n",
       "4 2019-09-30 08:55:30  {\"id\":592619042,\"name\":\"Talitha Kumia Darmo\",\"...   \n",
       "\n",
       "  currency currency_symbol currency_trailing_code            deadline  ...  \\\n",
       "0      CAD               $                   True 2019-11-14 05:35:09  ...   \n",
       "1      AUD               $                   True 2019-12-14 12:59:00  ...   \n",
       "2      HKD               $                   True 2019-12-14 04:18:15  ...   \n",
       "3      EUR               €                  False 2019-11-14 04:04:51  ...   \n",
       "4      SGD               $                   True 2019-11-14 04:00:00  ...   \n",
       "\n",
       "   pledged                                            profile  \\\n",
       "0  3864.29  {\"id\":3813769,\"project_id\":3813769,\"state\":\"in...   \n",
       "1     0.00  {\"id\":3845194,\"project_id\":3845194,\"state\":\"in...   \n",
       "2     0.00  {\"id\":3831195,\"project_id\":3831195,\"state\":\"in...   \n",
       "3    10.00  {\"id\":3832688,\"project_id\":3832688,\"state\":\"in...   \n",
       "4     4.00  {\"id\":3823347,\"project_id\":3823347,\"state\":\"in...   \n",
       "\n",
       "                                         slug  \\\n",
       "0                              mythical-girls   \n",
       "1                         kill-die-or-survive   \n",
       "2  a-mouse-that-can-warm-your-hands-in-winter   \n",
       "3                                 postugramer   \n",
       "4          kandel-sustainable-scented-candles   \n",
       "\n",
       "                                          source_url spotlight       state  \\\n",
       "0  https://www.kickstarter.com/discover/categorie...      True  successful   \n",
       "1  https://www.kickstarter.com/discover/categorie...     False        live   \n",
       "2  https://www.kickstarter.com/discover/categorie...     False        live   \n",
       "3  https://www.kickstarter.com/discover/categorie...     False      failed   \n",
       "4  https://www.kickstarter.com/discover/categorie...     False      failed   \n",
       "\n",
       "     state_changed_at  static_usd_rate  \\\n",
       "0 2019-11-14 05:35:10         0.757088   \n",
       "1 2019-11-14 04:39:34         0.684319   \n",
       "2 2019-11-14 04:18:16         0.127696   \n",
       "3 2019-11-14 04:04:51         1.103099   \n",
       "4 2019-11-14 04:00:01         0.733089   \n",
       "\n",
       "                                                urls  usd_pledged  \n",
       "0  {\"web\":{\"project\":\"https://www.kickstarter.com...  2925.608515  \n",
       "1  {\"web\":{\"project\":\"https://www.kickstarter.com...     0.000000  \n",
       "2  {\"web\":{\"project\":\"https://www.kickstarter.com...     0.000000  \n",
       "3  {\"web\":{\"project\":\"https://www.kickstarter.com...    11.030989  \n",
       "4  {\"web\":{\"project\":\"https://www.kickstarter.com...     2.932358  \n",
       "\n",
       "[5 rows x 27 columns]"
      ]
     },
     "execution_count": 7,
     "metadata": {},
     "output_type": "execute_result"
    }
   ],
   "source": [
    "timefields = ['created_at','deadline','launched_at','state_changed_at']\n",
    "df.dropna(axis = 0, how = 'any', subset = timefields, inplace = True) # Let go of values with missing times\n",
    "dc.convert_time(df,timefields)\n",
    "print('sanity check')\n",
    "df.head()"
   ]
  },
  {
   "cell_type": "markdown",
   "metadata": {},
   "source": [
    "Cool! looks alot better. now, one more check we need to do, is to check for duplicates in our dataset. If we find any duplicates (by project id). We will drop all earlier appearances of the same project. Note that this action sorts all projects by update date, so we need to take that in consideration up ahead. The first method we used was supposed to take care of this, but just to be sure..."
   ]
  },
  {
   "cell_type": "code",
   "execution_count": 8,
   "metadata": {},
   "outputs": [
    {
     "name": "stdout",
     "output_type": "stream",
     "text": [
      "There were originaly  351,940 records in data\n",
      "After processing there are  351,939 records in data\n"
     ]
    }
   ],
   "source": [
    "print('There were originaly ', f'{num_recs:,}' , 'records in data')\n",
    "dc.remove_duplicates(df)\n",
    "num_recs = len(df.index)\n",
    "print('After processing there are ', f'{num_recs:,}' , 'records in data')"
   ]
  },
  {
   "cell_type": "markdown",
   "metadata": {},
   "source": [
    "Another inconviniency in this dataset is that some of the fields are given in json form, specificaly the 'catagory' and 'creator' attributs. We'll parse just the interesting parts out of these fields and remove all bloat text."
   ]
  },
  {
   "cell_type": "code",
   "execution_count": 9,
   "metadata": {},
   "outputs": [],
   "source": [
    "#dc.extract_creator(df) #replaces the creator json with creator id int, un\n",
    "df.drop(columns=['creator'], inplace=True) #currently not used.\n",
    "dc.extract_catagories(df) #gets project catagory data"
   ]
  },
  {
   "cell_type": "markdown",
   "metadata": {},
   "source": [
    "One last thing that remains is to convert the goal amount which is the project's local currency (and not usd).\n",
    "Once this is done we no longer need the static usd column (it is dropped by the function). We will also parse the project photo url for future use."
   ]
  },
  {
   "cell_type": "code",
   "execution_count": null,
   "metadata": {},
   "outputs": [],
   "source": [
    "dc.convert_goal(df)\n",
    "dc.get_image_url(df)\n",
    "df.head()"
   ]
  },
  {
   "cell_type": "markdown",
   "metadata": {},
   "source": [
    "Now we are ready to begin exploring our data.\n",
    "As this is basicaly what we are asking, let's see how many projects of each status are in our dataset."
   ]
  },
  {
   "cell_type": "code",
   "execution_count": 10,
   "metadata": {},
   "outputs": [
    {
     "data": {
      "image/png": "[encoded data removed]",
      "text/plain": [
       "<Figure size 600x400 with 1 Axes>"
      ]
     },
     "metadata": {},
     "output_type": "display_data"
    }
   ],
   "source": [
    "visio.plot_distriubtion_by_state_slice(df)"
   ]
  },
  {
   "cell_type": "markdown",
   "metadata": {},
   "source": [
    "Since live projects can't be used, we'll clear them out and also unite suspended and canceled project to be labled as failed. which gives us:"
   ]
  },
  {
   "cell_type": "code",
   "execution_count": 11,
   "metadata": {},
   "outputs": [
    {
     "name": "stdout",
     "output_type": "stream",
     "text": [
      "successful    159328\n",
      "failed        155087\n",
      "Name: state, dtype: int64\n"
     ]
    },
    {
     "data": {
      "image/png": "[encoded data removed]",
      "text/plain": [
       "<Figure size 600x400 with 1 Axes>"
      ]
     },
     "metadata": {},
     "output_type": "display_data"
    },
    {
     "name": "stdout",
     "output_type": "stream",
     "text": [
      "After processing there are  314,415 records in data\n"
     ]
    }
   ],
   "source": [
    "dc.fix_state(df) #deletes live projects and unites failed.\n",
    "df.reset_index(drop=True, inplace=True)\n",
    "print(df.state.value_counts())\n",
    "visio.plot_distriubtion_by_state_slice(df, explode = [0,0])\n",
    "num_recs = len(df.index)\n",
    "print('After processing there are ', f'{num_recs:,}' , 'records in data')\n"
   ]
  },
  {
   "cell_type": "markdown",
   "metadata": {},
   "source": [
    "Cool. Looks like our data is balanced, and projects in our data set are eaqualy likely to fail or succeed."
   ]
  },
  {
   "cell_type": "markdown",
   "metadata": {},
   "source": [
    "Now, let's take a look at how our data distributes globaly.\n",
    "projects by origin country:"
   ]
  },
  {
   "cell_type": "code",
   "execution_count": null,
   "metadata": {},
   "outputs": [],
   "source": [
    "visio.plot_success_by_country(df)"
   ]
  },
  {
   "cell_type": "markdown",
   "metadata": {},
   "source": [
    "Thoose americans are always too big, let's try and give focus to the rest of the world as well:"
   ]
  },
  {
   "cell_type": "code",
   "execution_count": null,
   "metadata": {},
   "outputs": [],
   "source": [
    "visio.plot_success_by_country(df.loc[df['country'] != 'US'])"
   ]
  },
  {
   "cell_type": "markdown",
   "metadata": {},
   "source": [
    "Let's see how success distributes by catagory:"
   ]
  },
  {
   "cell_type": "code",
   "execution_count": null,
   "metadata": {},
   "outputs": [],
   "source": [
    "visio.plot_success_by_category(df)"
   ]
  },
  {
   "cell_type": "markdown",
   "metadata": {},
   "source": [
    "It seems as product catagory has an impact on campaign result. Our data set allows us to view this in even finer granularity, by sub catagories:"
   ]
  },
  {
   "cell_type": "code",
   "execution_count": null,
   "metadata": {},
   "outputs": [],
   "source": [
    "visio.plot_success_by_sub_category(df)"
   ]
  },
  {
   "cell_type": "markdown",
   "metadata": {},
   "source": [
    "Another thing to factor in is seasonality, let's see if there is any change in the success depending on project start month. To be able to look at this data over several years, we'll add specific month and year columns for launched_at and deadline. We will also add a field calculating the delta in months between launch and deadline."
   ]
  },
  {
   "cell_type": "code",
   "execution_count": null,
   "metadata": {},
   "outputs": [],
   "source": [
    "dc.extract_month_and_year(df, ['launched_at','deadline'])\n",
    "dc.add_destination_delta_in_days(df)\n",
    "visio.plot_success_by_launched_month(df)"
   ]
  },
  {
   "cell_type": "markdown",
   "metadata": {},
   "source": [
    "Overall, looking at the whole period of given data:"
   ]
  },
  {
   "cell_type": "code",
   "execution_count": null,
   "metadata": {},
   "outputs": [],
   "source": [
    "visio.plot_success_over_time(df)"
   ]
  },
  {
   "cell_type": "markdown",
   "metadata": {},
   "source": [
    "Let's see how the duration of the campaign affects the probability of success."
   ]
  },
  {
   "cell_type": "code",
   "execution_count": null,
   "metadata": {},
   "outputs": [],
   "source": [
    "visio.plot_success_by_destination_delta_in_days(df)"
   ]
  },
  {
   "cell_type": "code",
   "execution_count": null,
   "metadata": {},
   "outputs": [],
   "source": [
    "inner = df.loc[df['goal']<30000]\n",
    "sns.distplot(inner['goal']).set(xlim=(0))\n",
    "print('number of records out of range:',len(df.loc[df['goal']>30000]))"
   ]
  },
  {
   "cell_type": "code",
   "execution_count": null,
   "metadata": {},
   "outputs": [],
   "source": [
    "inner = df.loc[df['goal']>30000]\n",
    "inner = inner.loc[df['goal']<200000]\n",
    "sns.distplot(inner['goal']).set(xlim=(0))\n",
    "#print('number of records out of range:',len(df.loc[df['goal']<50000]))"
   ]
  },
  {
   "cell_type": "code",
   "execution_count": null,
   "metadata": {},
   "outputs": [],
   "source": [
    "inner = df.loc[df['goal']<80000]\n",
    "sns.distplot(inner['goal']).set(xlim=(0))\n",
    "print('number of records out of range:',len(df.loc[df['goal']>80000]))"
   ]
  },
  {
   "cell_type": "code",
   "execution_count": null,
   "metadata": {},
   "outputs": [],
   "source": [
    "cent = df.loc[df['goal']<30000]\n",
    "cent.plot.scatter(x='goal',y='pledged')"
   ]
  },
  {
   "cell_type": "markdown",
   "metadata": {},
   "source": [
    "Now, Let's try running a few naive models and see what it is that we are dealing with here."
   ]
  },
  {
   "cell_type": "code",
   "execution_count": null,
   "metadata": {},
   "outputs": [],
   "source": [
    "import knn_model as knn\n",
    "import logistic_regression_model as logistic\n",
    "import random_forest_model as forest\n",
    "import gradient_boosting_model as gradient_boosting"
   ]
  },
  {
   "cell_type": "code",
   "execution_count": null,
   "metadata": {},
   "outputs": [],
   "source": [
    "logReg_pr = logistic.run_model(df)\n",
    "models = {'Logistic regression' : logReg_pr}"
   ]
  },
  {
   "cell_type": "markdown",
   "metadata": {},
   "source": [
    "Let's try a few other models: KNN, Random forest and gradient boosting."
   ]
  },
  {
   "cell_type": "code",
   "execution_count": null,
   "metadata": {},
   "outputs": [],
   "source": [
    "knn_pr = knn.run_model(df,18)\n",
    "models['KNN'] = knn_pr"
   ]
  },
  {
   "cell_type": "code",
   "execution_count": null,
   "metadata": {},
   "outputs": [],
   "source": [
    "forest_pr = forest.run_model(df,950)\n",
    "models['Random forest'] = forest_pr"
   ]
  },
  {
   "cell_type": "code",
   "execution_count": null,
   "metadata": {},
   "outputs": [],
   "source": [
    "boost_pr = gradient_boosting.run_model(df, 1000)\n",
    "models['Gradient boost'] = boost_pr"
   ]
  },
  {
   "cell_type": "code",
   "execution_count": null,
   "metadata": {},
   "outputs": [],
   "source": [
    "visio.plot_precision(models)"
   ]
  },
  {
   "cell_type": "code",
   "execution_count": null,
   "metadata": {},
   "outputs": [],
   "source": [
    "df.to_pickle('cleaned.pickle')"
   ]
  },
  {
   "cell_type": "code",
   "execution_count": null,
   "metadata": {},
   "outputs": [],
   "source": []
  },
  {
   "cell_type": "code",
   "execution_count": null,
   "metadata": {},
   "outputs": [],
   "source": [
    "dc.get_image_url(df)"
   ]
  },
  {
   "cell_type": "code",
   "execution_count": null,
   "metadata": {},
   "outputs": [],
   "source": []
  }
 ],
 "metadata": {
  "kernelspec": {
   "display_name": "Python 3",
   "language": "python",
   "name": "python3"
  },
  "language_info": {
   "codemirror_mode": {
    "name": "ipython",
    "version": 3
   },
   "file_extension": ".py",
   "mimetype": "text/x-python",
   "name": "python",
   "nbconvert_exporter": "python",
   "pygments_lexer": "ipython3",
   "version": "3.7.5"
  }
 },
 "nbformat": 4,
 "nbformat_minor": 2
}
