{
 "cells": [
  {
   "cell_type": "markdown",
   "metadata": {},
   "source": [
    "# Kickstarter project (need to spell check)\n",
    "## Our project for this semester is to try and predict whether a fundraising campaign in kickstarter will succeed or not.\n",
    "\n",
    "This type of prediction can actualy be useful in several scenarios, whether for an entrepreneur trying to evaluate his chances, the kickstarter company itself that would like to promote promising campaigns or for an investor considering backing a company.\n",
    "\n",
    "There are a few datasets available in kaggle such as: [here](https://www.kaggle.com/codename007/funding-successful-projects) and [here](https://www.kaggle.com/kemical/kickstarter-projects). These datasets are more limited timespan wise and in their richness of data. The dataset that we used in our project is offered [here](https://webrobots.io/kickstarter-datasets/). It is very large and somewhat messy, so our first steps are going to be devoted to get to know this dataset and clean it up so we can use it easily.\n",
    "\n",
    "The data is spread around some 57 very large csv files. Our first step would be to unify it all into a single dataframe, and explore the columns:"
   ]
  },
  {
   "cell_type": "code",
   "execution_count": 1,
   "metadata": {},
   "outputs": [],
   "source": [
    "import pandas as pd\n",
    "import matplotlib.pyplot as plt\n",
    "import dataCleaning as dc\n",
    "import visio\n",
    "import seaborn as sns\n",
    "%matplotlib inline"
   ]
  },
  {
   "cell_type": "code",
   "execution_count": 2,
   "metadata": {},
   "outputs": [
    {
     "name": "stdout",
     "output_type": "stream",
     "text": [
      "read dataframe from cache rick.pickle\n"
     ]
    },
    {
     "data": {
      "text/html": [
       "<div>\n",
       "<style scoped>\n",
       "    .dataframe tbody tr th:only-of-type {\n",
       "        vertical-align: middle;\n",
       "    }\n",
       "\n",
       "    .dataframe tbody tr th {\n",
       "        vertical-align: top;\n",
       "    }\n",
       "\n",
       "    .dataframe thead th {\n",
       "        text-align: right;\n",
       "    }\n",
       "</style>\n",
       "<table border=\"1\" class=\"dataframe\">\n",
       "  <thead>\n",
       "    <tr style=\"text-align: right;\">\n",
       "      <th></th>\n",
       "      <th>backers_count</th>\n",
       "      <th>blurb</th>\n",
       "      <th>category</th>\n",
       "      <th>converted_pledged_amount</th>\n",
       "      <th>country</th>\n",
       "      <th>country_displayable_name</th>\n",
       "      <th>created_at</th>\n",
       "      <th>creator</th>\n",
       "      <th>currency</th>\n",
       "      <th>currency_symbol</th>\n",
       "      <th>...</th>\n",
       "      <th>slug</th>\n",
       "      <th>source_url</th>\n",
       "      <th>spotlight</th>\n",
       "      <th>staff_pick</th>\n",
       "      <th>state</th>\n",
       "      <th>state_changed_at</th>\n",
       "      <th>static_usd_rate</th>\n",
       "      <th>urls</th>\n",
       "      <th>usd_pledged</th>\n",
       "      <th>usd_type</th>\n",
       "    </tr>\n",
       "  </thead>\n",
       "  <tbody>\n",
       "    <tr>\n",
       "      <th>0</th>\n",
       "      <td>85</td>\n",
       "      <td>Help support the legendary B.O.O.G.A. mutant v...</td>\n",
       "      <td>{\"id\":53,\"name\":\"Public Art\",\"slug\":\"art/publi...</td>\n",
       "      <td>6223</td>\n",
       "      <td>US</td>\n",
       "      <td>the United States</td>\n",
       "      <td>1434317481</td>\n",
       "      <td>{\"id\":1120701030,\"name\":\"Shalin Scupham\",\"is_r...</td>\n",
       "      <td>USD</td>\n",
       "      <td>$</td>\n",
       "      <td>...</td>\n",
       "      <td>thunder-gumbo-art-car-burning-man-2015-repairs...</td>\n",
       "      <td>https://www.kickstarter.com/discover/categorie...</td>\n",
       "      <td>True</td>\n",
       "      <td>False</td>\n",
       "      <td>successful</td>\n",
       "      <td>1438323004</td>\n",
       "      <td>1.000000</td>\n",
       "      <td>{\"web\":{\"project\":\"https://www.kickstarter.com...</td>\n",
       "      <td>6223.000000</td>\n",
       "      <td>international</td>\n",
       "    </tr>\n",
       "    <tr>\n",
       "      <th>1</th>\n",
       "      <td>0</td>\n",
       "      <td>Handmade Organic comfortable trendy clothes fo...</td>\n",
       "      <td>{\"id\":264,\"name\":\"Childrenswear\",\"slug\":\"fashi...</td>\n",
       "      <td>0</td>\n",
       "      <td>CA</td>\n",
       "      <td>Canada</td>\n",
       "      <td>1471976279</td>\n",
       "      <td>{\"id\":2039752660,\"name\":\"Cassandra Derosa\",\"is...</td>\n",
       "      <td>CAD</td>\n",
       "      <td>$</td>\n",
       "      <td>...</td>\n",
       "      <td>little-d-threads</td>\n",
       "      <td>https://www.kickstarter.com/discover/categorie...</td>\n",
       "      <td>False</td>\n",
       "      <td>False</td>\n",
       "      <td>canceled</td>\n",
       "      <td>1472164799</td>\n",
       "      <td>0.774623</td>\n",
       "      <td>{\"web\":{\"project\":\"https://www.kickstarter.com...</td>\n",
       "      <td>0.000000</td>\n",
       "      <td>domestic</td>\n",
       "    </tr>\n",
       "    <tr>\n",
       "      <th>2</th>\n",
       "      <td>98</td>\n",
       "      <td>In NYC, 2 days before the U.N. Climate Summit,...</td>\n",
       "      <td>{\"id\":53,\"name\":\"Public Art\",\"slug\":\"art/publi...</td>\n",
       "      <td>5667</td>\n",
       "      <td>US</td>\n",
       "      <td>the United States</td>\n",
       "      <td>1407432996</td>\n",
       "      <td>{\"id\":627800435,\"name\":\"LigoranoReese\",\"slug\":...</td>\n",
       "      <td>USD</td>\n",
       "      <td>$</td>\n",
       "      <td>...</td>\n",
       "      <td>dawn-of-the-anthropocene-public-art-ice-sculpture</td>\n",
       "      <td>https://www.kickstarter.com/discover/categorie...</td>\n",
       "      <td>True</td>\n",
       "      <td>True</td>\n",
       "      <td>successful</td>\n",
       "      <td>1412170599</td>\n",
       "      <td>1.000000</td>\n",
       "      <td>{\"web\":{\"project\":\"https://www.kickstarter.com...</td>\n",
       "      <td>5667.000000</td>\n",
       "      <td>international</td>\n",
       "    </tr>\n",
       "    <tr>\n",
       "      <th>3</th>\n",
       "      <td>2</td>\n",
       "      <td>21m breaches in 2016 alone. Presenting a video...</td>\n",
       "      <td>{\"id\":51,\"name\":\"Software\",\"slug\":\"technology/...</td>\n",
       "      <td>278</td>\n",
       "      <td>GB</td>\n",
       "      <td>the United Kingdom</td>\n",
       "      <td>1469605439</td>\n",
       "      <td>{\"id\":1235898470,\"name\":\"David Bochenski\",\"is_...</td>\n",
       "      <td>GBP</td>\n",
       "      <td>£</td>\n",
       "      <td>...</td>\n",
       "      <td>securing-systems-with-hashicorp-vault-online-v...</td>\n",
       "      <td>https://www.kickstarter.com/discover/categorie...</td>\n",
       "      <td>False</td>\n",
       "      <td>False</td>\n",
       "      <td>failed</td>\n",
       "      <td>1475249402</td>\n",
       "      <td>1.310662</td>\n",
       "      <td>{\"web\":{\"project\":\"https://www.kickstarter.com...</td>\n",
       "      <td>281.792410</td>\n",
       "      <td>domestic</td>\n",
       "    </tr>\n",
       "    <tr>\n",
       "      <th>4</th>\n",
       "      <td>307</td>\n",
       "      <td>We are opening our first restaurant in Camberw...</td>\n",
       "      <td>{\"id\":314,\"name\":\"Spaces\",\"slug\":\"food/spaces\"...</td>\n",
       "      <td>75884</td>\n",
       "      <td>GB</td>\n",
       "      <td>the United Kingdom</td>\n",
       "      <td>1408629571</td>\n",
       "      <td>{\"id\":628839064,\"name\":\"Michael Richardson\",\"s...</td>\n",
       "      <td>GBP</td>\n",
       "      <td>£</td>\n",
       "      <td>...</td>\n",
       "      <td>mike-and-ollie-45-camberwell-church-street</td>\n",
       "      <td>https://www.kickstarter.com/discover/categorie...</td>\n",
       "      <td>True</td>\n",
       "      <td>True</td>\n",
       "      <td>successful</td>\n",
       "      <td>1441580413</td>\n",
       "      <td>1.564891</td>\n",
       "      <td>{\"web\":{\"project\":\"https://www.kickstarter.com...</td>\n",
       "      <td>78282.124892</td>\n",
       "      <td>domestic</td>\n",
       "    </tr>\n",
       "  </tbody>\n",
       "</table>\n",
       "<p>5 rows × 38 columns</p>\n",
       "</div>"
      ]
     },
     "output_type": "execute_result",
     "metadata": {}
    }
   ],
   "source": [
    "df = dc.make_dataframe() #Files are assumed to be located in rawData sub.dir. caches pickle in cwd.\n",
    "#print first few rows\n",
    "df.head()"
   ]
  },
  {
   "cell_type": "markdown",
   "metadata": {},
   "source": [
    "Great! Let's get a few details about this data: What are the features, how many records exist:"
   ]
  },
  {
   "cell_type": "code",
   "execution_count": 3,
   "metadata": {},
   "outputs": [
    {
     "name": "stdout",
     "output_type": "stream",
     "text": [
      "['backers_count', 'blurb', 'category', 'converted_pledged_amount', 'country', 'country_displayable_name', 'created_at', 'creator', 'currency', 'currency_symbol', 'currency_trailing_code', 'current_currency', 'deadline', 'disable_communication', 'friends', 'fx_rate', 'goal', 'id', 'is_backing', 'is_starrable', 'is_starred', 'launched_at', 'location', 'name', 'permissions', 'photo', 'pledged', 'profile', 'slug', 'source_url', 'spotlight', 'staff_pick', 'state', 'state_changed_at', 'static_usd_rate', 'urls', 'usd_pledged', 'usd_type']\n",
      "\n",
      "There are originaly  211,424 records in data\n"
     ]
    }
   ],
   "source": [
    "cols = list(df.columns.values)\n",
    "print(cols)\n",
    "num_recs = len(df.index)\n",
    "print()\n",
    "print('There are originaly ', f'{num_recs:,}' , 'records in data')"
   ]
  },
  {
   "cell_type": "markdown",
   "metadata": {},
   "source": [
    "We can already see redundant attributes which we are sure we will not need (used for display purpases). Let's start with dropping these.\n"
   ]
  },
  {
   "cell_type": "code",
   "execution_count": 4,
   "metadata": {},
   "outputs": [
    {
     "name": "stdout",
     "output_type": "stream",
     "text": [
      "sanity check, print new columns:\n",
      "['backers_count', 'blurb', 'category', 'converted_pledged_amount', 'country', 'created_at', 'creator', 'currency', 'deadline', 'friends', 'fx_rate', 'goal', 'id', 'is_backing', 'is_starrable', 'is_starred', 'launched_at', 'location', 'name', 'permissions', 'pledged', 'slug', 'spotlight', 'staff_pick', 'state', 'state_changed_at']\n"
     ]
    }
   ],
   "source": [
    "redundant = ['country_displayable_name', 'currency_symbol', 'currency_trailing_code', 'current_currency',\n",
    "             'source_url','disable_communication', 'profile','urls','photo', 'static_usd_rate', 'usd_pledged', 'usd_type']\n",
    "df.drop(columns=redundant, inplace=True)\n",
    "print('sanity check, print new columns:')\n",
    "cols = list(df.columns.values)\n",
    "print(cols)"
   ]
  },
  {
   "cell_type": "markdown",
   "metadata": {},
   "source": [
    "Taking a first peek at the data via Excel hints that there are still many empty columns:\n",
    "![peek](img/firstPeek.png)\n",
    "\n",
    "Let's see what columns contain mostly null values:\n"
   ]
  },
  {
   "cell_type": "code",
   "execution_count": 5,
   "metadata": {},
   "outputs": [
    {
     "name": "stdout",
     "output_type": "stream",
     "text": [
      "backers_count                    0\n",
      "blurb                            8\n",
      "category                         0\n",
      "converted_pledged_amount         0\n",
      "country                          0\n",
      "created_at                       0\n",
      "creator                          0\n",
      "currency                         0\n",
      "deadline                         0\n",
      "friends                     210980\n",
      "fx_rate                          0\n",
      "goal                             0\n",
      "id                               0\n",
      "is_backing                  210980\n",
      "is_starrable                     0\n",
      "is_starred                  210980\n",
      "launched_at                      0\n",
      "location                       217\n",
      "name                             0\n",
      "permissions                 210980\n",
      "pledged                          0\n",
      "slug                             0\n",
      "spotlight                        0\n",
      "staff_pick                       0\n",
      "state                            0\n",
      "state_changed_at                 0\n",
      "dtype: int64\n"
     ]
    }
   ],
   "source": [
    "nes = df.isna().sum()\n",
    "print(nes)"
   ]
  },
  {
   "cell_type": "markdown",
   "metadata": {},
   "source": [
    "Looks like we can drop 'friends','is_backing','is_starred','permissions' as well."
   ]
  },
  {
   "cell_type": "code",
   "execution_count": 6,
   "metadata": {},
   "outputs": [
    {
     "name": "stdout",
     "output_type": "stream",
     "text": [
      "['backers_count', 'blurb', 'category', 'converted_pledged_amount', 'country', 'created_at', 'creator', 'currency', 'deadline', 'fx_rate', 'goal', 'id', 'is_starrable', 'launched_at', 'location', 'name', 'pledged', 'slug', 'spotlight', 'staff_pick', 'state', 'state_changed_at']\n"
     ]
    }
   ],
   "source": [
    "empty = ['friends','is_backing','is_starred','permissions']\n",
    "df.drop(columns=empty,inplace=True)\n",
    "cols = list(df.columns.values)\n",
    "print(cols)"
   ]
  },
  {
   "cell_type": "markdown",
   "metadata": {},
   "source": [
    "From looking at the data we can also see that the time fields are given in UNIX time. It'll be usefull ahead if we can break each date into a day month year trio. We'll run the conversion and replace each column with the corresponding 3 fields."
   ]
  },
  {
   "cell_type": "code",
   "execution_count": 7,
   "metadata": {},
   "outputs": [
    {
     "name": "stdout",
     "output_type": "stream",
     "text": [
      "sanity check\n"
     ]
    },
    {
     "data": {
      "text/html": [
       "<div>\n",
       "<style scoped>\n",
       "    .dataframe tbody tr th:only-of-type {\n",
       "        vertical-align: middle;\n",
       "    }\n",
       "\n",
       "    .dataframe tbody tr th {\n",
       "        vertical-align: top;\n",
       "    }\n",
       "\n",
       "    .dataframe thead th {\n",
       "        text-align: right;\n",
       "    }\n",
       "</style>\n",
       "<table border=\"1\" class=\"dataframe\">\n",
       "  <thead>\n",
       "    <tr style=\"text-align: right;\">\n",
       "      <th></th>\n",
       "      <th>backers_count</th>\n",
       "      <th>blurb</th>\n",
       "      <th>category</th>\n",
       "      <th>converted_pledged_amount</th>\n",
       "      <th>country</th>\n",
       "      <th>created_at</th>\n",
       "      <th>creator</th>\n",
       "      <th>currency</th>\n",
       "      <th>deadline</th>\n",
       "      <th>fx_rate</th>\n",
       "      <th>...</th>\n",
       "      <th>is_starrable</th>\n",
       "      <th>launched_at</th>\n",
       "      <th>location</th>\n",
       "      <th>name</th>\n",
       "      <th>pledged</th>\n",
       "      <th>slug</th>\n",
       "      <th>spotlight</th>\n",
       "      <th>staff_pick</th>\n",
       "      <th>state</th>\n",
       "      <th>state_changed_at</th>\n",
       "    </tr>\n",
       "  </thead>\n",
       "  <tbody>\n",
       "    <tr>\n",
       "      <th>0</th>\n",
       "      <td>85</td>\n",
       "      <td>Help support the legendary B.O.O.G.A. mutant v...</td>\n",
       "      <td>{\"id\":53,\"name\":\"Public Art\",\"slug\":\"art/publi...</td>\n",
       "      <td>6223</td>\n",
       "      <td>US</td>\n",
       "      <td>2015-06-14 21:31:21</td>\n",
       "      <td>{\"id\":1120701030,\"name\":\"Shalin Scupham\",\"is_r...</td>\n",
       "      <td>USD</td>\n",
       "      <td>2015-07-31 06:10:04</td>\n",
       "      <td>1.000000</td>\n",
       "      <td>...</td>\n",
       "      <td>False</td>\n",
       "      <td>2015-07-01 06:10:04</td>\n",
       "      <td>{\"id\":99999999,\"name\":\"Black Rock City\",\"slug\"...</td>\n",
       "      <td>Bring the Thunder Gumbo Art Car to Burning Man...</td>\n",
       "      <td>6223.0</td>\n",
       "      <td>thunder-gumbo-art-car-burning-man-2015-repairs...</td>\n",
       "      <td>True</td>\n",
       "      <td>False</td>\n",
       "      <td>successful</td>\n",
       "      <td>2015-07-31 06:10:04</td>\n",
       "    </tr>\n",
       "    <tr>\n",
       "      <th>1</th>\n",
       "      <td>0</td>\n",
       "      <td>Handmade Organic comfortable trendy clothes fo...</td>\n",
       "      <td>{\"id\":264,\"name\":\"Childrenswear\",\"slug\":\"fashi...</td>\n",
       "      <td>0</td>\n",
       "      <td>CA</td>\n",
       "      <td>2016-08-23 18:17:59</td>\n",
       "      <td>{\"id\":2039752660,\"name\":\"Cassandra Derosa\",\"is...</td>\n",
       "      <td>CAD</td>\n",
       "      <td>2016-09-22 22:16:46</td>\n",
       "      <td>0.754185</td>\n",
       "      <td>...</td>\n",
       "      <td>False</td>\n",
       "      <td>2016-08-23 22:16:46</td>\n",
       "      <td>{\"id\":8676,\"name\":\"Edmonton\",\"slug\":\"edmonton-...</td>\n",
       "      <td>Little D Threads (Canceled)</td>\n",
       "      <td>0.0</td>\n",
       "      <td>little-d-threads</td>\n",
       "      <td>False</td>\n",
       "      <td>False</td>\n",
       "      <td>canceled</td>\n",
       "      <td>2016-08-25 22:39:59</td>\n",
       "    </tr>\n",
       "    <tr>\n",
       "      <th>2</th>\n",
       "      <td>98</td>\n",
       "      <td>In NYC, 2 days before the U.N. Climate Summit,...</td>\n",
       "      <td>{\"id\":53,\"name\":\"Public Art\",\"slug\":\"art/publi...</td>\n",
       "      <td>5667</td>\n",
       "      <td>US</td>\n",
       "      <td>2014-08-07 17:36:36</td>\n",
       "      <td>{\"id\":627800435,\"name\":\"LigoranoReese\",\"slug\":...</td>\n",
       "      <td>USD</td>\n",
       "      <td>2014-10-01 13:36:39</td>\n",
       "      <td>1.000000</td>\n",
       "      <td>...</td>\n",
       "      <td>False</td>\n",
       "      <td>2014-08-22 13:36:39</td>\n",
       "      <td>{\"id\":2459115,\"name\":\"New York\",\"slug\":\"new-yo...</td>\n",
       "      <td>Dawn of the Anthropocene - Public Art Ice Scul...</td>\n",
       "      <td>5667.0</td>\n",
       "      <td>dawn-of-the-anthropocene-public-art-ice-sculpture</td>\n",
       "      <td>True</td>\n",
       "      <td>True</td>\n",
       "      <td>successful</td>\n",
       "      <td>2014-10-01 13:36:39</td>\n",
       "    </tr>\n",
       "    <tr>\n",
       "      <th>3</th>\n",
       "      <td>2</td>\n",
       "      <td>21m breaches in 2016 alone. Presenting a video...</td>\n",
       "      <td>{\"id\":51,\"name\":\"Software\",\"slug\":\"technology/...</td>\n",
       "      <td>278</td>\n",
       "      <td>GB</td>\n",
       "      <td>2016-07-27 07:43:59</td>\n",
       "      <td>{\"id\":1235898470,\"name\":\"David Bochenski\",\"is_...</td>\n",
       "      <td>GBP</td>\n",
       "      <td>2016-09-30 15:30:00</td>\n",
       "      <td>1.283686</td>\n",
       "      <td>...</td>\n",
       "      <td>False</td>\n",
       "      <td>2016-09-01 11:28:17</td>\n",
       "      <td>{\"id\":12602189,\"name\":\"Staffordshire\",\"slug\":\"...</td>\n",
       "      <td>Securing Systems with Hashicorp Vault - Online...</td>\n",
       "      <td>215.0</td>\n",
       "      <td>securing-systems-with-hashicorp-vault-online-v...</td>\n",
       "      <td>False</td>\n",
       "      <td>False</td>\n",
       "      <td>failed</td>\n",
       "      <td>2016-09-30 15:30:02</td>\n",
       "    </tr>\n",
       "    <tr>\n",
       "      <th>4</th>\n",
       "      <td>307</td>\n",
       "      <td>We are opening our first restaurant in Camberw...</td>\n",
       "      <td>{\"id\":314,\"name\":\"Spaces\",\"slug\":\"food/spaces\"...</td>\n",
       "      <td>75884</td>\n",
       "      <td>GB</td>\n",
       "      <td>2014-08-21 13:59:31</td>\n",
       "      <td>{\"id\":628839064,\"name\":\"Michael Richardson\",\"s...</td>\n",
       "      <td>GBP</td>\n",
       "      <td>2015-09-06 23:00:00</td>\n",
       "      <td>1.283686</td>\n",
       "      <td>...</td>\n",
       "      <td>False</td>\n",
       "      <td>2015-08-18 13:21:59</td>\n",
       "      <td>{\"id\":44418,\"name\":\"London\",\"slug\":\"london-gb\"...</td>\n",
       "      <td>Mike and Ollie: 45 Camberwell Church Street</td>\n",
       "      <td>50024.0</td>\n",
       "      <td>mike-and-ollie-45-camberwell-church-street</td>\n",
       "      <td>True</td>\n",
       "      <td>True</td>\n",
       "      <td>successful</td>\n",
       "      <td>2015-09-06 23:00:13</td>\n",
       "    </tr>\n",
       "  </tbody>\n",
       "</table>\n",
       "<p>5 rows × 22 columns</p>\n",
       "</div>"
      ]
     },
     "output_type": "execute_result",
     "metadata": {}
    }
   ],
   "source": [
    "timefields = ['created_at','deadline','launched_at','state_changed_at']\n",
    "dc.convert_time(df,timefields)\n",
    "print('sanity check')\n",
    "df.head()"
   ]
  },
  {
   "cell_type": "markdown",
   "metadata": {},
   "source": [
    "Another inconviniency in this dataset is that some of the fields are given in json form, specificaly the 'catagory' and 'creator' attributs. We'll parse just the interesting parts out of these fields and remove all bloat text."
   ]
  },
  {
   "cell_type": "code",
   "execution_count": 8,
   "metadata": {},
   "outputs": [],
   "source": [
    "dc.extract_creator(df) #replaces the creator json with creator id int\n",
    "dc.extract_catagories(df) #gets project catagory data"
   ]
  },
  {
   "cell_type": "markdown",
   "metadata": {},
   "source": [
    "Cool! now, one last check we need to do, is to check for duplicates in our dataset.\n",
    "If we find any duplicates (by project id). We will drop all earlier appearances of the same project. Note that this action sorts all projects by update date, so we need to take that in consideration up ahead."
   ]
  },
  {
   "cell_type": "code",
   "execution_count": 9,
   "metadata": {},
   "outputs": [
    {
     "name": "stdout",
     "output_type": "stream",
     "text": [
      "There are originaly  211,424 records in data\n",
      "After processing there are  184,535 records in data\n"
     ]
    }
   ],
   "source": [
    "print('There are originaly ', f'{num_recs:,}' , 'records in data')\n",
    "dc.remove_duplicates(df)\n",
    "num_recs = len(df.index)\n",
    "print('After processing there are ', f'{num_recs:,}' , 'records in data')"
   ]
  },
  {
   "cell_type": "markdown",
   "metadata": {},
   "source": [
    "One last thing that remains is to convert the goal amount which is the project's local currency (and not usd).\n",
    "Once this is done we no longer need the fx column as well (it is dropped by the function)."
   ]
  },
  {
   "cell_type": "code",
   "execution_count": 10,
   "metadata": {},
   "outputs": [],
   "source": [
    "dc.convert_goal(df)"
   ]
  },
  {
   "cell_type": "markdown",
   "metadata": {},
   "source": [
    "Now we are ready to begin exploring our data.\n",
    "As this is basicaly what we are asking, let's see how many projects of each status are in our dataset."
   ]
  },
  {
   "cell_type": "code",
   "execution_count": 11,
   "metadata": {},
   "outputs": [
    {
     "data": {
      "image/png": "[encoded data removed]"
     },
     "output_type": "display_data",
     "metadata": {}
    }
   ],
   "source": [
    "visio.plot_projStat(df)"
   ]
  },
  {
   "cell_type": "markdown",
   "metadata": {},
   "source": [
    "Since live projects can't be used, we'll clear them out and also unite suspended and canceled project to be labled as failed. which gives us:"
   ]
  },
  {
   "cell_type": "code",
   "execution_count": 12,
   "metadata": {},
   "outputs": [
    {
     "data": {
      "image/png": "[encoded data removed]"
     },
     "output_type": "display_data",
     "metadata": {}
    }
   ],
   "source": [
    "dc.fix_state(df)\n",
    "df.reset_index(drop=True, inplace=True)\n",
    "visio.plot_projStat(df)"
   ]
  },
  {
   "cell_type": "markdown",
   "metadata": {},
   "source": [
    "Projects by origin country:"
   ]
  },
  {
   "cell_type": "code",
   "execution_count": 13,
   "metadata": {},
   "outputs": [
    {
     "data": {
      "text/plain": [
       "<matplotlib.axes._subplots.AxesSubplot at 0x10e19c8188>"
      ]
     },
     "execution_count": 13,
     "output_type": "execute_result",
     "metadata": {}
    },
    {
     "data": {
      "image/png": "[encoded data removed]"
     },
     "output_type": "display_data",
     "metadata": {}
    }
   ],
   "source": [
    "df['country'].value_counts().plot.bar()"
   ]
  },
  {
   "cell_type": "code",
   "execution_count": 14,
   "metadata": {},
   "outputs": [
    {
     "data": {
      "text/plain": [
       "<matplotlib.axes._subplots.AxesSubplot at 0x10e296cbc8>"
      ]
     },
     "execution_count": 14,
     "output_type": "execute_result",
     "metadata": {}
    },
    {
     "data": {
      "image/png": "[encoded data removed]"
     },
     "output_type": "display_data",
     "metadata": {}
    }
   ],
   "source": [
    "suc = df.loc[df['state'] == 'successful']\n",
    "f = df.loc[df['state'] == 'failed']\n",
    "sc = suc['country'].value_counts()\n",
    "sf = f['country'].value_counts()\n",
    "d = pd.DataFrame({'Successful': sc, 'failed': sf})\n",
    "d.plot.bar()"
   ]
  },
  {
   "cell_type": "markdown",
   "metadata": {},
   "source": [
    "Success rate by catagory"
   ]
  },
  {
   "cell_type": "code",
   "execution_count": 15,
   "metadata": {},
   "outputs": [
    {
     "data": {
      "text/plain": [
       "<matplotlib.axes._subplots.AxesSubplot at 0x10adb604c8>"
      ]
     },
     "execution_count": 15,
     "output_type": "execute_result",
     "metadata": {}
    },
    {
     "data": {
      "image/png": "[encoded data removed]"
     },
     "output_type": "display_data",
     "metadata": {}
    }
   ],
   "source": [
    "suc = df.loc[df['state'] == 'successful']\n",
    "f = df.loc[df['state'] == 'failed']\n",
    "sc = suc['parent_category'].value_counts()\n",
    "sf = f['parent_category'].value_counts()\n",
    "d = pd.DataFrame({'Successful': sc, 'failed': sf})\n",
    "d.plot.bar()"
   ]
  },
  {
   "cell_type": "code",
   "execution_count": 16,
   "metadata": {},
   "outputs": [
    {
     "name": "stdout",
     "output_type": "stream",
     "text": [
      "number of records out of range: 20116\n"
     ]
    },
    {
     "data": {
      "image/png": "[encoded data removed]"
     },
     "output_type": "display_data",
     "metadata": {}
    }
   ],
   "source": [
    "inner = df.loc[df['goal']<30000]\n",
    "sns.distplot(inner['goal']).set(xlim=(0))\n",
    "print('number of records out of range:',len(df.loc[df['goal']>30000]))"
   ]
  },
  {
   "cell_type": "code",
   "execution_count": 17,
   "metadata": {},
   "outputs": [
    {
     "name": "stdout",
     "output_type": "stream",
     "text": [
      "number of records out of range: 11402\n"
     ]
    },
    {
     "data": {
      "image/png": "[encoded data removed]"
     },
     "output_type": "display_data",
     "metadata": {}
    }
   ],
   "source": [
    "inner = df.loc[df['goal']>50000]\n",
    "inner = inner.loc[df['goal']<200000]\n",
    "sns.distplot(inner['goal']).set(xlim=(0))\n",
    "print('number of records out of range:',len(df.loc[df['goal']>50000]))"
   ]
  },
  {
   "cell_type": "code",
   "execution_count": 18,
   "metadata": {},
   "outputs": [
    {
     "name": "stdout",
     "output_type": "stream",
     "text": [
      "number of records out of range: 20116\n"
     ]
    },
    {
     "data": {
      "image/png": "[encoded data removed]"
     },
     "output_type": "display_data",
     "metadata": {}
    }
   ],
   "source": [
    "inner = df.loc[df['converted_pledged_amount']<30000]\n",
    "sns.distplot(inner['converted_pledged_amount']).set(xlim=(0))\n",
    "print('number of records out of range:',len(df.loc[df['goal']>30000]))"
   ]
  },
  {
   "cell_type": "code",
   "execution_count": 19,
   "metadata": {},
   "outputs": [],
   "source": [
    "dc.add_ratio(df)"
   ]
  },
  {
   "cell_type": "code",
   "execution_count": 20,
   "metadata": {},
   "outputs": [
    {
     "data": {
      "text/plain": [
       "<matplotlib.axes._subplots.AxesSubplot at 0x109d327c48>"
      ]
     },
     "execution_count": 20,
     "output_type": "execute_result",
     "metadata": {}
    },
    {
     "data": {
      "image/png": "[encoded data removed]"
     },
     "output_type": "display_data",
     "metadata": {}
    }
   ],
   "source": [
    "cent = df.loc[df['goal']<30000]\n",
    "cent.plot.scatter(x='goal',y='converted_pledged_amount')"
   ]
  },
  {
   "cell_type": "code",
   "execution_count": null,
   "metadata": {},
   "outputs": [],
   "source": [
    ""
   ]
  }
 ],
 "metadata": {
  "kernelspec": {
   "display_name": "Python 3",
   "language": "python",
   "name": "python3"
  },
  "language_info": {
   "codemirror_mode": {
    "name": "ipython",
    "version": 3.0
   },
   "file_extension": ".py",
   "mimetype": "text/x-python",
   "name": "python",
   "nbconvert_exporter": "python",
   "pygments_lexer": "ipython3",
   "version": "3.7.5"
  }
 },
 "nbformat": 4,
 "nbformat_minor": 2
}