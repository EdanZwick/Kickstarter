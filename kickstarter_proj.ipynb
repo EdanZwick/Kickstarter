{
 "cells": [
  {
   "cell_type": "markdown",
   "metadata": {},
   "source": [
    "# Kickstarter project (need to spell check)\n",
    "## Our project for this semester is to try and predict whether a fundraising campaign in kickstarter will succeed or not.\n",
    "\n",
    "This type of prediction can actualy be useful in several scenarios, whether for an entrepreneur trying to evaluate his chances, the kickstarter company itself that would like to promote promising campaigns or for an investor considering backing a company.\n",
    "\n",
    "There are a few datasets available in kaggle such as: [here](https://www.kaggle.com/codename007/funding-successful-projects) and [here](https://www.kaggle.com/kemical/kickstarter-projects). These datasets are more limited timespan wise and in their richness of data. The dataset that we used in our project is offered [here](https://webrobots.io/kickstarter-datasets/). It is very large and somewhat messy, so our first steps are going to be devoted to get to know this dataset and clean it up so we can use it easily.\n",
    "\n",
    "The data is scraped over different periods, the last scrape is from Nov 2019 and contains 57 very large csv files. Our first step would be to unify it all (scrapes from 2015 onwards each containing about 100,000 records, with alot of overlaping) into a single dataframe, and explore the columns.\n",
    "If this looks alright, we'll add a few other generations to the data set and then start sanitzing it.\n",
    "\n",
    "\n",
    "# Note that this will download dataset of about 800MB and extract about 5GB of space on your computer.\n",
    "\n",
    "After dataset is saved as pickle, there is no longer a need for the extracted csv files"
   ]
  },
  {
   "cell_type": "code",
   "execution_count": 1,
   "metadata": {},
   "outputs": [],
   "source": [
    "import pandas as pd\n",
    "import matplotlib.pyplot as plt\n",
    "import dataCleaning as dc\n",
    "import visio\n",
    "import seaborn as sns\n",
    "%matplotlib inline"
   ]
  },
  {
   "cell_type": "code",
   "execution_count": 2,
   "metadata": {
    "scrolled": true
   },
   "outputs": [
    {
     "name": "stdout",
     "output_type": "stream",
     "text": [
      "read dataframe from cache rick.pickle\n"
     ]
    },
    {
     "data": {
      "text/html": [
       "<div>\n",
       "<style scoped>\n",
       "    .dataframe tbody tr th:only-of-type {\n",
       "        vertical-align: middle;\n",
       "    }\n",
       "\n",
       "    .dataframe tbody tr th {\n",
       "        vertical-align: top;\n",
       "    }\n",
       "\n",
       "    .dataframe thead th {\n",
       "        text-align: right;\n",
       "    }\n",
       "</style>\n",
       "<table border=\"1\" class=\"dataframe\">\n",
       "  <thead>\n",
       "    <tr style=\"text-align: right;\">\n",
       "      <th></th>\n",
       "      <th>backers_count</th>\n",
       "      <th>blurb</th>\n",
       "      <th>category</th>\n",
       "      <th>converted_pledged_amount</th>\n",
       "      <th>country</th>\n",
       "      <th>country_displayable_name</th>\n",
       "      <th>created_at</th>\n",
       "      <th>creator</th>\n",
       "      <th>currency</th>\n",
       "      <th>currency_symbol</th>\n",
       "      <th>...</th>\n",
       "      <th>spotlight</th>\n",
       "      <th>staff_pick</th>\n",
       "      <th>state</th>\n",
       "      <th>state_changed_at</th>\n",
       "      <th>static_usd_rate</th>\n",
       "      <th>unread_messages_count</th>\n",
       "      <th>unseen_activity_count</th>\n",
       "      <th>urls</th>\n",
       "      <th>usd_pledged</th>\n",
       "      <th>usd_type</th>\n",
       "    </tr>\n",
       "  </thead>\n",
       "  <tbody>\n",
       "    <tr>\n",
       "      <th>0</th>\n",
       "      <td>68</td>\n",
       "      <td>An anthology of stories about Girls and mythic...</td>\n",
       "      <td>{\"id\":324,\"name\":\"Anthologies\",\"slug\":\"publish...</td>\n",
       "      <td>2914.0</td>\n",
       "      <td>CA</td>\n",
       "      <td>Canada</td>\n",
       "      <td>1568572677</td>\n",
       "      <td>{\"id\":1114868812,\"name\":\"Alex McGilvery\",\"slug...</td>\n",
       "      <td>CAD</td>\n",
       "      <td>$</td>\n",
       "      <td>...</td>\n",
       "      <td>True</td>\n",
       "      <td>False</td>\n",
       "      <td>successful</td>\n",
       "      <td>1573709710</td>\n",
       "      <td>0.757088</td>\n",
       "      <td>NaN</td>\n",
       "      <td>NaN</td>\n",
       "      <td>{\"web\":{\"project\":\"https://www.kickstarter.com...</td>\n",
       "      <td>2925.608515</td>\n",
       "      <td>domestic</td>\n",
       "    </tr>\n",
       "    <tr>\n",
       "      <th>1</th>\n",
       "      <td>5</td>\n",
       "      <td>\"The clothing brand which that brings to life ...</td>\n",
       "      <td>{\"id\":263,\"name\":\"Apparel\",\"slug\":\"fashion/app...</td>\n",
       "      <td>11.0</td>\n",
       "      <td>ES</td>\n",
       "      <td>Spain</td>\n",
       "      <td>1571086165</td>\n",
       "      <td>{\"id\":1577671901,\"name\":\"Fran Domínguez\",\"slug...</td>\n",
       "      <td>EUR</td>\n",
       "      <td>€</td>\n",
       "      <td>...</td>\n",
       "      <td>False</td>\n",
       "      <td>False</td>\n",
       "      <td>failed</td>\n",
       "      <td>1573704291</td>\n",
       "      <td>1.103099</td>\n",
       "      <td>NaN</td>\n",
       "      <td>NaN</td>\n",
       "      <td>{\"web\":{\"project\":\"https://www.kickstarter.com...</td>\n",
       "      <td>11.030989</td>\n",
       "      <td>domestic</td>\n",
       "    </tr>\n",
       "    <tr>\n",
       "      <th>2</th>\n",
       "      <td>2</td>\n",
       "      <td>Soy for joy.</td>\n",
       "      <td>{\"id\":343,\"name\":\"Candles\",\"slug\":\"crafts/cand...</td>\n",
       "      <td>2.0</td>\n",
       "      <td>SG</td>\n",
       "      <td>Singapore</td>\n",
       "      <td>1569833730</td>\n",
       "      <td>{\"id\":592619042,\"name\":\"Talitha Kumia Darmo\",\"...</td>\n",
       "      <td>SGD</td>\n",
       "      <td>$</td>\n",
       "      <td>...</td>\n",
       "      <td>False</td>\n",
       "      <td>False</td>\n",
       "      <td>failed</td>\n",
       "      <td>1573704001</td>\n",
       "      <td>0.733089</td>\n",
       "      <td>NaN</td>\n",
       "      <td>NaN</td>\n",
       "      <td>{\"web\":{\"project\":\"https://www.kickstarter.com...</td>\n",
       "      <td>2.932358</td>\n",
       "      <td>domestic</td>\n",
       "    </tr>\n",
       "    <tr>\n",
       "      <th>3</th>\n",
       "      <td>92</td>\n",
       "      <td>Leading the way home</td>\n",
       "      <td>{\"id\":30,\"name\":\"Documentary\",\"slug\":\"film &amp; v...</td>\n",
       "      <td>13117.0</td>\n",
       "      <td>US</td>\n",
       "      <td>the United States</td>\n",
       "      <td>1571103508</td>\n",
       "      <td>{\"id\":1282479904,\"name\":\"Stormy May\",\"slug\":\"s...</td>\n",
       "      <td>USD</td>\n",
       "      <td>$</td>\n",
       "      <td>...</td>\n",
       "      <td>True</td>\n",
       "      <td>False</td>\n",
       "      <td>successful</td>\n",
       "      <td>1573703599</td>\n",
       "      <td>1.000000</td>\n",
       "      <td>NaN</td>\n",
       "      <td>NaN</td>\n",
       "      <td>{\"web\":{\"project\":\"https://www.kickstarter.com...</td>\n",
       "      <td>13117.000000</td>\n",
       "      <td>international</td>\n",
       "    </tr>\n",
       "    <tr>\n",
       "      <th>4</th>\n",
       "      <td>1</td>\n",
       "      <td>Spotlight Theatre Workshop is running a free a...</td>\n",
       "      <td>{\"id\":284,\"name\":\"Musical\",\"slug\":\"theater/mus...</td>\n",
       "      <td>1.0</td>\n",
       "      <td>US</td>\n",
       "      <td>the United States</td>\n",
       "      <td>1571008952</td>\n",
       "      <td>{\"id\":421896452,\"name\":\"Nikki Bettcher Erickso...</td>\n",
       "      <td>USD</td>\n",
       "      <td>$</td>\n",
       "      <td>...</td>\n",
       "      <td>False</td>\n",
       "      <td>False</td>\n",
       "      <td>failed</td>\n",
       "      <td>1573702200</td>\n",
       "      <td>1.000000</td>\n",
       "      <td>NaN</td>\n",
       "      <td>NaN</td>\n",
       "      <td>{\"web\":{\"project\":\"https://www.kickstarter.com...</td>\n",
       "      <td>1.000000</td>\n",
       "      <td>domestic</td>\n",
       "    </tr>\n",
       "  </tbody>\n",
       "</table>\n",
       "<p>5 rows × 41 columns</p>\n",
       "</div>"
      ],
      "text/plain": [
       "   backers_count                                              blurb  \\\n",
       "0             68  An anthology of stories about Girls and mythic...   \n",
       "1              5  \"The clothing brand which that brings to life ...   \n",
       "2              2                                       Soy for joy.   \n",
       "3             92                               Leading the way home   \n",
       "4              1  Spotlight Theatre Workshop is running a free a...   \n",
       "\n",
       "                                            category  \\\n",
       "0  {\"id\":324,\"name\":\"Anthologies\",\"slug\":\"publish...   \n",
       "1  {\"id\":263,\"name\":\"Apparel\",\"slug\":\"fashion/app...   \n",
       "2  {\"id\":343,\"name\":\"Candles\",\"slug\":\"crafts/cand...   \n",
       "3  {\"id\":30,\"name\":\"Documentary\",\"slug\":\"film & v...   \n",
       "4  {\"id\":284,\"name\":\"Musical\",\"slug\":\"theater/mus...   \n",
       "\n",
       "   converted_pledged_amount country country_displayable_name  created_at  \\\n",
       "0                    2914.0      CA                   Canada  1568572677   \n",
       "1                      11.0      ES                    Spain  1571086165   \n",
       "2                       2.0      SG                Singapore  1569833730   \n",
       "3                   13117.0      US        the United States  1571103508   \n",
       "4                       1.0      US        the United States  1571008952   \n",
       "\n",
       "                                             creator currency currency_symbol  \\\n",
       "0  {\"id\":1114868812,\"name\":\"Alex McGilvery\",\"slug...      CAD               $   \n",
       "1  {\"id\":1577671901,\"name\":\"Fran Domínguez\",\"slug...      EUR               €   \n",
       "2  {\"id\":592619042,\"name\":\"Talitha Kumia Darmo\",\"...      SGD               $   \n",
       "3  {\"id\":1282479904,\"name\":\"Stormy May\",\"slug\":\"s...      USD               $   \n",
       "4  {\"id\":421896452,\"name\":\"Nikki Bettcher Erickso...      USD               $   \n",
       "\n",
       "   ...  spotlight staff_pick       state  state_changed_at static_usd_rate  \\\n",
       "0  ...       True      False  successful        1573709710        0.757088   \n",
       "1  ...      False      False      failed        1573704291        1.103099   \n",
       "2  ...      False      False      failed        1573704001        0.733089   \n",
       "3  ...       True      False  successful        1573703599        1.000000   \n",
       "4  ...      False      False      failed        1573702200        1.000000   \n",
       "\n",
       "   unread_messages_count  unseen_activity_count  \\\n",
       "0                    NaN                    NaN   \n",
       "1                    NaN                    NaN   \n",
       "2                    NaN                    NaN   \n",
       "3                    NaN                    NaN   \n",
       "4                    NaN                    NaN   \n",
       "\n",
       "                                                urls   usd_pledged  \\\n",
       "0  {\"web\":{\"project\":\"https://www.kickstarter.com...   2925.608515   \n",
       "1  {\"web\":{\"project\":\"https://www.kickstarter.com...     11.030989   \n",
       "2  {\"web\":{\"project\":\"https://www.kickstarter.com...      2.932358   \n",
       "3  {\"web\":{\"project\":\"https://www.kickstarter.com...  13117.000000   \n",
       "4  {\"web\":{\"project\":\"https://www.kickstarter.com...      1.000000   \n",
       "\n",
       "        usd_type  \n",
       "0       domestic  \n",
       "1       domestic  \n",
       "2       domestic  \n",
       "3  international  \n",
       "4       domestic  \n",
       "\n",
       "[5 rows x 41 columns]"
      ]
     },
     "execution_count": 2,
     "metadata": {},
     "output_type": "execute_result"
    }
   ],
   "source": [
    "df = dc.make_dataframe(path=r'rawData') #Files are assumed to be located in rawData sub.dir. caches pickle in cwd.\n",
    "#print first few rows\n",
    "df.head()"
   ]
  },
  {
   "cell_type": "markdown",
   "metadata": {},
   "source": [
    "Great! Let's get a few details about this data: What are the features, how many records exist:"
   ]
  },
  {
   "cell_type": "code",
   "execution_count": 3,
   "metadata": {},
   "outputs": [
    {
     "name": "stdout",
     "output_type": "stream",
     "text": [
      "['backers_count', 'blurb', 'category', 'converted_pledged_amount', 'country', 'country_displayable_name', 'created_at', 'creator', 'currency', 'currency_symbol', 'currency_trailing_code', 'current_currency', 'deadline', 'disable_communication', 'friends', 'fx_rate', 'goal', 'id', 'is_backing', 'is_starrable', 'is_starred', 'last_update_published_at', 'launched_at', 'location', 'name', 'permissions', 'photo', 'pledged', 'profile', 'slug', 'source_url', 'spotlight', 'staff_pick', 'state', 'state_changed_at', 'static_usd_rate', 'unread_messages_count', 'unseen_activity_count', 'urls', 'usd_pledged', 'usd_type']\n",
      "\n",
      "There are originaly 314420 records in data\n"
     ]
    }
   ],
   "source": [
    "cols = list(df.columns.values)\n",
    "print(cols)\n",
    "num_recs = len(df.index)\n",
    "print()\n",
    "print('There are originaly {} records in data'.format(num_recs))"
   ]
  },
  {
   "cell_type": "markdown",
   "metadata": {},
   "source": [
    "Taking a first peek at the data via Excel hints that there are many empty columns:\n",
    "![peek](img/firstPeek.png)\n",
    "\n",
    "Let's see what columns contain mostly null values:\n"
   ]
  },
  {
   "cell_type": "code",
   "execution_count": 4,
   "metadata": {
    "scrolled": true
   },
   "outputs": [
    {
     "name": "stdout",
     "output_type": "stream",
     "text": [
      "backers_count                    0\n",
      "blurb                           18\n",
      "category                         0\n",
      "converted_pledged_amount    204596\n",
      "country                          0\n",
      "country_displayable_name    296316\n",
      "created_at                       0\n",
      "creator                          0\n",
      "currency                         0\n",
      "currency_symbol                  0\n",
      "currency_trailing_code           0\n",
      "current_currency            204596\n",
      "deadline                         0\n",
      "disable_communication            0\n",
      "friends                     314415\n",
      "fx_rate                     205031\n",
      "goal                             0\n",
      "id                               0\n",
      "is_backing                  314415\n",
      "is_starrable                160200\n",
      "is_starred                  314415\n",
      "last_update_published_at    314420\n",
      "launched_at                      0\n",
      "location                      1105\n",
      "name                             3\n",
      "permissions                 314416\n",
      "photo                            0\n",
      "pledged                          0\n",
      "profile                          0\n",
      "slug                             0\n",
      "source_url                   28272\n",
      "spotlight                        0\n",
      "staff_pick                   23561\n",
      "state                            0\n",
      "state_changed_at                 0\n",
      "static_usd_rate                  0\n",
      "unread_messages_count       314420\n",
      "unseen_activity_count       314420\n",
      "urls                             0\n",
      "usd_pledged                      0\n",
      "usd_type                    205036\n",
      "dtype: int64\n"
     ]
    }
   ],
   "source": [
    "nes = df.isna().sum()\n",
    "print(nes)"
   ]
  },
  {
   "cell_type": "markdown",
   "metadata": {},
   "source": [
    "We're not missing anything too important so far (though some sound important they are either not used or interchangable with other fields that are kept). Off with their head!"
   ]
  },
  {
   "cell_type": "code",
   "execution_count": 5,
   "metadata": {},
   "outputs": [
    {
     "name": "stdout",
     "output_type": "stream",
     "text": [
      "['backers_count', 'blurb', 'category', 'country', 'created_at', 'creator', 'currency', 'currency_symbol', 'currency_trailing_code', 'deadline', 'disable_communication', 'goal', 'id', 'launched_at', 'location', 'name', 'photo', 'pledged', 'profile', 'slug', 'source_url', 'spotlight', 'state', 'state_changed_at', 'static_usd_rate', 'urls', 'usd_pledged']\n"
     ]
    }
   ],
   "source": [
    "empty = {'friends','is_backing','is_starred','is_starrable','permissions','country_displayable_name','converted_pledged_amount',\n",
    "         'current_currency','usd_type','fx_rate', 'has_more','last_update_published_at','projects','search_url','seed','staff_pick','total_hits','unread_messages_count','unseen_activity_count'}\n",
    "letgo = [name for name in empty if name in cols]\n",
    "df.drop(columns=letgo,inplace=True)\n",
    "cols = list(df.columns.values)\n",
    "print(cols)"
   ]
  },
  {
   "cell_type": "markdown",
   "metadata": {},
   "source": [
    "We can already see redundant attributes which we are sure we will not need:\n",
    "- Data that is used for display purpases: such as 'currency_symbol', 'currency_trailing_code'.\n",
    "- Data that is biased: such as backers count (This is part of the prediction), or disable_communication which is an option for failed projects \n",
    "- Data that will not be used by our model: location, 'profile', 'urls','usd_type', 'location'.\n",
    "Let's start with dropping these.\n",
    "\n",
    "Looks like we can drop 'friends','is_backing','is_starred','permissions' as they are basicaly empty."
   ]
  },
  {
   "cell_type": "code",
   "execution_count": 7,
   "metadata": {},
   "outputs": [
    {
     "name": "stdout",
     "output_type": "stream",
     "text": [
      "['blurb', 'category', 'country', 'created_at', 'creator', 'currency', 'deadline', 'goal', 'id', 'launched_at', 'name', 'photo', 'pledged', 'slug', 'state', 'state_changed_at', 'static_usd_rate']\n"
     ]
    }
   ],
   "source": [
    "redundant = {'backers_count','currency_symbol', 'currency_trailing_code','source_url','disable_communication',\n",
    "             'profile','urls','location','spotlight','usd_pledged'}\n",
    "letgo = [name for name in redundant if name in cols]\n",
    "df.drop(columns=letgo, inplace=True)\n",
    "cols = list(df.columns.values)\n",
    "print(cols)"
   ]
  },
  {
   "cell_type": "markdown",
   "metadata": {},
   "source": [
    "From looking at the data we can also see that the time fields are given in UNIX time. It'll be usefull ahead if we can break each date into a day month year trio. We'll run the conversion and replace each column with the corresponding 3 fields."
   ]
  },
  {
   "cell_type": "code",
   "execution_count": 8,
   "metadata": {},
   "outputs": [
    {
     "name": "stdout",
     "output_type": "stream",
     "text": [
      "sanity check\n"
     ]
    },
    {
     "data": {
      "text/html": [
       "<div>\n",
       "<style scoped>\n",
       "    .dataframe tbody tr th:only-of-type {\n",
       "        vertical-align: middle;\n",
       "    }\n",
       "\n",
       "    .dataframe tbody tr th {\n",
       "        vertical-align: top;\n",
       "    }\n",
       "\n",
       "    .dataframe thead th {\n",
       "        text-align: right;\n",
       "    }\n",
       "</style>\n",
       "<table border=\"1\" class=\"dataframe\">\n",
       "  <thead>\n",
       "    <tr style=\"text-align: right;\">\n",
       "      <th></th>\n",
       "      <th>blurb</th>\n",
       "      <th>category</th>\n",
       "      <th>country</th>\n",
       "      <th>created_at</th>\n",
       "      <th>creator</th>\n",
       "      <th>currency</th>\n",
       "      <th>deadline</th>\n",
       "      <th>goal</th>\n",
       "      <th>id</th>\n",
       "      <th>launched_at</th>\n",
       "      <th>name</th>\n",
       "      <th>photo</th>\n",
       "      <th>pledged</th>\n",
       "      <th>slug</th>\n",
       "      <th>state</th>\n",
       "      <th>state_changed_at</th>\n",
       "      <th>static_usd_rate</th>\n",
       "    </tr>\n",
       "  </thead>\n",
       "  <tbody>\n",
       "    <tr>\n",
       "      <th>0</th>\n",
       "      <td>An anthology of stories about Girls and mythic...</td>\n",
       "      <td>{\"id\":324,\"name\":\"Anthologies\",\"slug\":\"publish...</td>\n",
       "      <td>CA</td>\n",
       "      <td>2019-09-15 18:37:57</td>\n",
       "      <td>{\"id\":1114868812,\"name\":\"Alex McGilvery\",\"slug...</td>\n",
       "      <td>CAD</td>\n",
       "      <td>2019-11-14 05:35:09</td>\n",
       "      <td>3000.0</td>\n",
       "      <td>473984565</td>\n",
       "      <td>2019-10-15 04:35:09</td>\n",
       "      <td>Mythical Girls</td>\n",
       "      <td>{\"key\":\"assets/026/767/892/d39613dbce86eca0405...</td>\n",
       "      <td>3864.29</td>\n",
       "      <td>mythical-girls</td>\n",
       "      <td>successful</td>\n",
       "      <td>2019-11-14 05:35:10</td>\n",
       "      <td>0.757088</td>\n",
       "    </tr>\n",
       "    <tr>\n",
       "      <th>1</th>\n",
       "      <td>\"The clothing brand which that brings to life ...</td>\n",
       "      <td>{\"id\":263,\"name\":\"Apparel\",\"slug\":\"fashion/app...</td>\n",
       "      <td>ES</td>\n",
       "      <td>2019-10-14 20:49:25</td>\n",
       "      <td>{\"id\":1577671901,\"name\":\"Fran Domínguez\",\"slug...</td>\n",
       "      <td>EUR</td>\n",
       "      <td>2019-11-14 04:04:51</td>\n",
       "      <td>16900.0</td>\n",
       "      <td>1289060457</td>\n",
       "      <td>2019-10-15 04:04:51</td>\n",
       "      <td>POSTUGRAMER</td>\n",
       "      <td>{\"key\":\"assets/026/837/652/432424ed459bf34a310...</td>\n",
       "      <td>10.00</td>\n",
       "      <td>postugramer</td>\n",
       "      <td>failed</td>\n",
       "      <td>2019-11-14 04:04:51</td>\n",
       "      <td>1.103099</td>\n",
       "    </tr>\n",
       "    <tr>\n",
       "      <th>2</th>\n",
       "      <td>Soy for joy.</td>\n",
       "      <td>{\"id\":343,\"name\":\"Candles\",\"slug\":\"crafts/cand...</td>\n",
       "      <td>SG</td>\n",
       "      <td>2019-09-30 08:55:30</td>\n",
       "      <td>{\"id\":592619042,\"name\":\"Talitha Kumia Darmo\",\"...</td>\n",
       "      <td>SGD</td>\n",
       "      <td>2019-11-14 04:00:00</td>\n",
       "      <td>1300.0</td>\n",
       "      <td>904608803</td>\n",
       "      <td>2019-10-21 08:50:49</td>\n",
       "      <td>Kandel: Sustainable scented candles</td>\n",
       "      <td>{\"key\":\"assets/026/842/831/068baf8f2a3a543172d...</td>\n",
       "      <td>4.00</td>\n",
       "      <td>kandel-sustainable-scented-candles</td>\n",
       "      <td>failed</td>\n",
       "      <td>2019-11-14 04:00:01</td>\n",
       "      <td>0.733089</td>\n",
       "    </tr>\n",
       "    <tr>\n",
       "      <th>3</th>\n",
       "      <td>Leading the way home</td>\n",
       "      <td>{\"id\":30,\"name\":\"Documentary\",\"slug\":\"film &amp; v...</td>\n",
       "      <td>US</td>\n",
       "      <td>2019-10-15 01:38:28</td>\n",
       "      <td>{\"id\":1282479904,\"name\":\"Stormy May\",\"slug\":\"s...</td>\n",
       "      <td>USD</td>\n",
       "      <td>2019-11-14 03:53:19</td>\n",
       "      <td>10000.0</td>\n",
       "      <td>917486356</td>\n",
       "      <td>2019-10-15 02:53:19</td>\n",
       "      <td>Peace &amp; Horses</td>\n",
       "      <td>{\"key\":\"assets/026/839/208/45c4165f8e67d392334...</td>\n",
       "      <td>13117.00</td>\n",
       "      <td>peace-and-horses</td>\n",
       "      <td>successful</td>\n",
       "      <td>2019-11-14 03:53:19</td>\n",
       "      <td>1.000000</td>\n",
       "    </tr>\n",
       "    <tr>\n",
       "      <th>4</th>\n",
       "      <td>Spotlight Theatre Workshop is running a free a...</td>\n",
       "      <td>{\"id\":284,\"name\":\"Musical\",\"slug\":\"theater/mus...</td>\n",
       "      <td>US</td>\n",
       "      <td>2019-10-13 23:22:32</td>\n",
       "      <td>{\"id\":421896452,\"name\":\"Nikki Bettcher Erickso...</td>\n",
       "      <td>USD</td>\n",
       "      <td>2019-11-14 03:30:00</td>\n",
       "      <td>3325.0</td>\n",
       "      <td>291455067</td>\n",
       "      <td>2019-10-21 00:45:55</td>\n",
       "      <td>Affordable and Meaningful Theatre for Youth</td>\n",
       "      <td>{\"key\":\"assets/026/825/449/3b6957bf4d6906b44aa...</td>\n",
       "      <td>1.00</td>\n",
       "      <td>affordable-and-meaningful-theatre-for-youth</td>\n",
       "      <td>failed</td>\n",
       "      <td>2019-11-14 03:30:00</td>\n",
       "      <td>1.000000</td>\n",
       "    </tr>\n",
       "  </tbody>\n",
       "</table>\n",
       "</div>"
      ],
      "text/plain": [
       "                                               blurb  \\\n",
       "0  An anthology of stories about Girls and mythic...   \n",
       "1  \"The clothing brand which that brings to life ...   \n",
       "2                                       Soy for joy.   \n",
       "3                               Leading the way home   \n",
       "4  Spotlight Theatre Workshop is running a free a...   \n",
       "\n",
       "                                            category country  \\\n",
       "0  {\"id\":324,\"name\":\"Anthologies\",\"slug\":\"publish...      CA   \n",
       "1  {\"id\":263,\"name\":\"Apparel\",\"slug\":\"fashion/app...      ES   \n",
       "2  {\"id\":343,\"name\":\"Candles\",\"slug\":\"crafts/cand...      SG   \n",
       "3  {\"id\":30,\"name\":\"Documentary\",\"slug\":\"film & v...      US   \n",
       "4  {\"id\":284,\"name\":\"Musical\",\"slug\":\"theater/mus...      US   \n",
       "\n",
       "           created_at                                            creator  \\\n",
       "0 2019-09-15 18:37:57  {\"id\":1114868812,\"name\":\"Alex McGilvery\",\"slug...   \n",
       "1 2019-10-14 20:49:25  {\"id\":1577671901,\"name\":\"Fran Domínguez\",\"slug...   \n",
       "2 2019-09-30 08:55:30  {\"id\":592619042,\"name\":\"Talitha Kumia Darmo\",\"...   \n",
       "3 2019-10-15 01:38:28  {\"id\":1282479904,\"name\":\"Stormy May\",\"slug\":\"s...   \n",
       "4 2019-10-13 23:22:32  {\"id\":421896452,\"name\":\"Nikki Bettcher Erickso...   \n",
       "\n",
       "  currency            deadline     goal          id         launched_at  \\\n",
       "0      CAD 2019-11-14 05:35:09   3000.0   473984565 2019-10-15 04:35:09   \n",
       "1      EUR 2019-11-14 04:04:51  16900.0  1289060457 2019-10-15 04:04:51   \n",
       "2      SGD 2019-11-14 04:00:00   1300.0   904608803 2019-10-21 08:50:49   \n",
       "3      USD 2019-11-14 03:53:19  10000.0   917486356 2019-10-15 02:53:19   \n",
       "4      USD 2019-11-14 03:30:00   3325.0   291455067 2019-10-21 00:45:55   \n",
       "\n",
       "                                          name  \\\n",
       "0                               Mythical Girls   \n",
       "1                                  POSTUGRAMER   \n",
       "2          Kandel: Sustainable scented candles   \n",
       "3                               Peace & Horses   \n",
       "4  Affordable and Meaningful Theatre for Youth   \n",
       "\n",
       "                                               photo   pledged  \\\n",
       "0  {\"key\":\"assets/026/767/892/d39613dbce86eca0405...   3864.29   \n",
       "1  {\"key\":\"assets/026/837/652/432424ed459bf34a310...     10.00   \n",
       "2  {\"key\":\"assets/026/842/831/068baf8f2a3a543172d...      4.00   \n",
       "3  {\"key\":\"assets/026/839/208/45c4165f8e67d392334...  13117.00   \n",
       "4  {\"key\":\"assets/026/825/449/3b6957bf4d6906b44aa...      1.00   \n",
       "\n",
       "                                          slug       state  \\\n",
       "0                               mythical-girls  successful   \n",
       "1                                  postugramer      failed   \n",
       "2           kandel-sustainable-scented-candles      failed   \n",
       "3                             peace-and-horses  successful   \n",
       "4  affordable-and-meaningful-theatre-for-youth      failed   \n",
       "\n",
       "     state_changed_at  static_usd_rate  \n",
       "0 2019-11-14 05:35:10         0.757088  \n",
       "1 2019-11-14 04:04:51         1.103099  \n",
       "2 2019-11-14 04:00:01         0.733089  \n",
       "3 2019-11-14 03:53:19         1.000000  \n",
       "4 2019-11-14 03:30:00         1.000000  "
      ]
     },
     "execution_count": 8,
     "metadata": {},
     "output_type": "execute_result"
    }
   ],
   "source": [
    "timefields = ['created_at','deadline','launched_at','state_changed_at']\n",
    "df.dropna(axis = 0, how = 'any', subset = timefields, inplace = True) # Let go of values with missing times\n",
    "dc.convert_time(df,timefields)\n",
    "print('sanity check')\n",
    "df.head()"
   ]
  },
  {
   "cell_type": "markdown",
   "metadata": {},
   "source": [
    "Cool! looks alot better. now, one more check we need to do, is to check for duplicates in our dataset. If we find any duplicates (by project id). We will drop all earlier appearances of the same project. Note that this action sorts all projects by update date, so we need to take that in consideration up ahead. The first method we used was supposed to take care of this, but just to be sure..."
   ]
  },
  {
   "cell_type": "code",
   "execution_count": 9,
   "metadata": {},
   "outputs": [
    {
     "name": "stdout",
     "output_type": "stream",
     "text": [
      "There are originaly 314420 records in data\n",
      "After processing there are 314420 records in data\n"
     ]
    }
   ],
   "source": [
    "print('There are originaly {} records in data'.format(num_recs))\n",
    "dc.remove_duplicates(df)\n",
    "num_recs = len(df.index)\n",
    "print('After processing there are {} records in data'.format(num_recs))"
   ]
  },
  {
   "cell_type": "markdown",
   "metadata": {},
   "source": [
    "Another inconviniency in this dataset is that some of the fields are given in json form, specificaly the 'catagory' and 'creator' attributs. We'll parse just the interesting parts out of these fields and remove all bloat text."
   ]
  },
  {
   "cell_type": "code",
   "execution_count": 10,
   "metadata": {},
   "outputs": [],
   "source": [
    "#dc.extract_creator(df) #replaces the creator json with creator id int, un\n",
    "df.drop(columns=['creator'], inplace=True) #currently not used.\n",
    "dc.extract_catagories(df) #gets project catagory data"
   ]
  },
  {
   "cell_type": "markdown",
   "metadata": {},
   "source": [
    "One last thing that remains is to convert the goal amount which is the project's local currency (and not usd).\n",
    "Once this is done we no longer need the static usd column (it is dropped by the function). We will also parse the project photo url for future use."
   ]
  },
  {
   "cell_type": "code",
   "execution_count": 11,
   "metadata": {},
   "outputs": [
    {
     "data": {
      "text/html": [
       "<div>\n",
       "<style scoped>\n",
       "    .dataframe tbody tr th:only-of-type {\n",
       "        vertical-align: middle;\n",
       "    }\n",
       "\n",
       "    .dataframe tbody tr th {\n",
       "        vertical-align: top;\n",
       "    }\n",
       "\n",
       "    .dataframe thead th {\n",
       "        text-align: right;\n",
       "    }\n",
       "</style>\n",
       "<table border=\"1\" class=\"dataframe\">\n",
       "  <thead>\n",
       "    <tr style=\"text-align: right;\">\n",
       "      <th></th>\n",
       "      <th>blurb</th>\n",
       "      <th>category</th>\n",
       "      <th>country</th>\n",
       "      <th>created_at</th>\n",
       "      <th>currency</th>\n",
       "      <th>deadline</th>\n",
       "      <th>goal</th>\n",
       "      <th>id</th>\n",
       "      <th>launched_at</th>\n",
       "      <th>name</th>\n",
       "      <th>photo</th>\n",
       "      <th>pledged</th>\n",
       "      <th>slug</th>\n",
       "      <th>state</th>\n",
       "      <th>state_changed_at</th>\n",
       "      <th>parent_category</th>\n",
       "      <th>category_name</th>\n",
       "      <th>parent_category_name</th>\n",
       "    </tr>\n",
       "  </thead>\n",
       "  <tbody>\n",
       "    <tr>\n",
       "      <th>0</th>\n",
       "      <td>An anthology of stories about Girls and mythic...</td>\n",
       "      <td>324</td>\n",
       "      <td>CA</td>\n",
       "      <td>2019-09-15 18:37:57</td>\n",
       "      <td>CAD</td>\n",
       "      <td>2019-11-14 05:35:09</td>\n",
       "      <td>2271</td>\n",
       "      <td>473984565</td>\n",
       "      <td>2019-10-15 04:35:09</td>\n",
       "      <td>Mythical Girls</td>\n",
       "      <td>https://ksr-ugc.imgix.net/assets/026/767/892/d...</td>\n",
       "      <td>3864.29</td>\n",
       "      <td>mythical-girls</td>\n",
       "      <td>successful</td>\n",
       "      <td>2019-11-14 05:35:10</td>\n",
       "      <td>18</td>\n",
       "      <td>anthologies</td>\n",
       "      <td>publishing</td>\n",
       "    </tr>\n",
       "    <tr>\n",
       "      <th>1</th>\n",
       "      <td>\"The clothing brand which that brings to life ...</td>\n",
       "      <td>263</td>\n",
       "      <td>ES</td>\n",
       "      <td>2019-10-14 20:49:25</td>\n",
       "      <td>EUR</td>\n",
       "      <td>2019-11-14 04:04:51</td>\n",
       "      <td>18642</td>\n",
       "      <td>1289060457</td>\n",
       "      <td>2019-10-15 04:04:51</td>\n",
       "      <td>POSTUGRAMER</td>\n",
       "      <td>https://ksr-ugc.imgix.net/assets/026/837/652/4...</td>\n",
       "      <td>10.00</td>\n",
       "      <td>postugramer</td>\n",
       "      <td>failed</td>\n",
       "      <td>2019-11-14 04:04:51</td>\n",
       "      <td>9</td>\n",
       "      <td>apparel</td>\n",
       "      <td>fashion</td>\n",
       "    </tr>\n",
       "    <tr>\n",
       "      <th>2</th>\n",
       "      <td>Soy for joy.</td>\n",
       "      <td>343</td>\n",
       "      <td>SG</td>\n",
       "      <td>2019-09-30 08:55:30</td>\n",
       "      <td>SGD</td>\n",
       "      <td>2019-11-14 04:00:00</td>\n",
       "      <td>953</td>\n",
       "      <td>904608803</td>\n",
       "      <td>2019-10-21 08:50:49</td>\n",
       "      <td>Kandel: Sustainable scented candles</td>\n",
       "      <td>https://ksr-ugc.imgix.net/assets/026/842/831/0...</td>\n",
       "      <td>4.00</td>\n",
       "      <td>kandel-sustainable-scented-candles</td>\n",
       "      <td>failed</td>\n",
       "      <td>2019-11-14 04:00:01</td>\n",
       "      <td>26</td>\n",
       "      <td>candles</td>\n",
       "      <td>crafts</td>\n",
       "    </tr>\n",
       "    <tr>\n",
       "      <th>3</th>\n",
       "      <td>Leading the way home</td>\n",
       "      <td>30</td>\n",
       "      <td>US</td>\n",
       "      <td>2019-10-15 01:38:28</td>\n",
       "      <td>USD</td>\n",
       "      <td>2019-11-14 03:53:19</td>\n",
       "      <td>10000</td>\n",
       "      <td>917486356</td>\n",
       "      <td>2019-10-15 02:53:19</td>\n",
       "      <td>Peace &amp; Horses</td>\n",
       "      <td>https://ksr-ugc.imgix.net/assets/026/839/208/4...</td>\n",
       "      <td>13117.00</td>\n",
       "      <td>peace-and-horses</td>\n",
       "      <td>successful</td>\n",
       "      <td>2019-11-14 03:53:19</td>\n",
       "      <td>11</td>\n",
       "      <td>documentary</td>\n",
       "      <td>film &amp; video</td>\n",
       "    </tr>\n",
       "    <tr>\n",
       "      <th>4</th>\n",
       "      <td>Spotlight Theatre Workshop is running a free a...</td>\n",
       "      <td>284</td>\n",
       "      <td>US</td>\n",
       "      <td>2019-10-13 23:22:32</td>\n",
       "      <td>USD</td>\n",
       "      <td>2019-11-14 03:30:00</td>\n",
       "      <td>3325</td>\n",
       "      <td>291455067</td>\n",
       "      <td>2019-10-21 00:45:55</td>\n",
       "      <td>Affordable and Meaningful Theatre for Youth</td>\n",
       "      <td>https://ksr-ugc.imgix.net/assets/026/825/449/3...</td>\n",
       "      <td>1.00</td>\n",
       "      <td>affordable-and-meaningful-theatre-for-youth</td>\n",
       "      <td>failed</td>\n",
       "      <td>2019-11-14 03:30:00</td>\n",
       "      <td>17</td>\n",
       "      <td>musical</td>\n",
       "      <td>theater</td>\n",
       "    </tr>\n",
       "  </tbody>\n",
       "</table>\n",
       "</div>"
      ],
      "text/plain": [
       "                                               blurb  category country  \\\n",
       "0  An anthology of stories about Girls and mythic...       324      CA   \n",
       "1  \"The clothing brand which that brings to life ...       263      ES   \n",
       "2                                       Soy for joy.       343      SG   \n",
       "3                               Leading the way home        30      US   \n",
       "4  Spotlight Theatre Workshop is running a free a...       284      US   \n",
       "\n",
       "           created_at currency            deadline   goal          id  \\\n",
       "0 2019-09-15 18:37:57      CAD 2019-11-14 05:35:09   2271   473984565   \n",
       "1 2019-10-14 20:49:25      EUR 2019-11-14 04:04:51  18642  1289060457   \n",
       "2 2019-09-30 08:55:30      SGD 2019-11-14 04:00:00    953   904608803   \n",
       "3 2019-10-15 01:38:28      USD 2019-11-14 03:53:19  10000   917486356   \n",
       "4 2019-10-13 23:22:32      USD 2019-11-14 03:30:00   3325   291455067   \n",
       "\n",
       "          launched_at                                         name  \\\n",
       "0 2019-10-15 04:35:09                               Mythical Girls   \n",
       "1 2019-10-15 04:04:51                                  POSTUGRAMER   \n",
       "2 2019-10-21 08:50:49          Kandel: Sustainable scented candles   \n",
       "3 2019-10-15 02:53:19                               Peace & Horses   \n",
       "4 2019-10-21 00:45:55  Affordable and Meaningful Theatre for Youth   \n",
       "\n",
       "                                               photo   pledged  \\\n",
       "0  https://ksr-ugc.imgix.net/assets/026/767/892/d...   3864.29   \n",
       "1  https://ksr-ugc.imgix.net/assets/026/837/652/4...     10.00   \n",
       "2  https://ksr-ugc.imgix.net/assets/026/842/831/0...      4.00   \n",
       "3  https://ksr-ugc.imgix.net/assets/026/839/208/4...  13117.00   \n",
       "4  https://ksr-ugc.imgix.net/assets/026/825/449/3...      1.00   \n",
       "\n",
       "                                          slug       state  \\\n",
       "0                               mythical-girls  successful   \n",
       "1                                  postugramer      failed   \n",
       "2           kandel-sustainable-scented-candles      failed   \n",
       "3                             peace-and-horses  successful   \n",
       "4  affordable-and-meaningful-theatre-for-youth      failed   \n",
       "\n",
       "     state_changed_at  parent_category category_name parent_category_name  \n",
       "0 2019-11-14 05:35:10               18   anthologies           publishing  \n",
       "1 2019-11-14 04:04:51                9       apparel              fashion  \n",
       "2 2019-11-14 04:00:01               26       candles               crafts  \n",
       "3 2019-11-14 03:53:19               11   documentary         film & video  \n",
       "4 2019-11-14 03:30:00               17       musical              theater  "
      ]
     },
     "execution_count": 11,
     "metadata": {},
     "output_type": "execute_result"
    }
   ],
   "source": [
    "dc.convert_goal(df)\n",
    "dc.get_image_url(df)\n",
    "df.head()"
   ]
  },
  {
   "cell_type": "markdown",
   "metadata": {},
   "source": [
    "Now we are ready to begin exploring our data.\n",
    "As this is basicaly what we are asking, let's see how many projects of each status are in our dataset."
   ]
  },
  {
   "cell_type": "code",
   "execution_count": 12,
   "metadata": {},
   "outputs": [
    {
     "ename": "ValueError",
     "evalue": "'explode' must be of length 'x'",
     "output_type": "error",
     "traceback": [
      "\u001b[0;31m---------------------------------------------------------------------------\u001b[0m",
      "\u001b[0;31mValueError\u001b[0m                                Traceback (most recent call last)",
      "\u001b[0;32m<ipython-input-12-eede411324d9>\u001b[0m in \u001b[0;36m<module>\u001b[0;34m()\u001b[0m\n\u001b[0;32m----> 1\u001b[0;31m \u001b[0mvisio\u001b[0m\u001b[0;34m.\u001b[0m\u001b[0mplot_distriubtion_by_state_slice\u001b[0m\u001b[0;34m(\u001b[0m\u001b[0mdf\u001b[0m\u001b[0;34m)\u001b[0m\u001b[0;34m\u001b[0m\u001b[0m\n\u001b[0m",
      "\u001b[0;32m/data/home/z/notebooks/kickstarter/visio.py\u001b[0m in \u001b[0;36mplot_distriubtion_by_state_slice\u001b[0;34m(df, explode)\u001b[0m\n\u001b[1;32m     76\u001b[0m     \u001b[0mfig\u001b[0m\u001b[0;34m,\u001b[0m \u001b[0max\u001b[0m \u001b[0;34m=\u001b[0m \u001b[0mplt\u001b[0m\u001b[0;34m.\u001b[0m\u001b[0msubplots\u001b[0m\u001b[0;34m(\u001b[0m\u001b[0;36m1\u001b[0m\u001b[0;34m,\u001b[0m \u001b[0;36m1\u001b[0m\u001b[0;34m,\u001b[0m \u001b[0mdpi\u001b[0m\u001b[0;34m=\u001b[0m\u001b[0;36m100\u001b[0m\u001b[0;34m)\u001b[0m\u001b[0;34m\u001b[0m\u001b[0m\n\u001b[1;32m     77\u001b[0m     \u001b[0mfig\u001b[0m\u001b[0;34m.\u001b[0m\u001b[0mset_facecolor\u001b[0m\u001b[0;34m(\u001b[0m\u001b[0;34m'xkcd:pale grey'\u001b[0m\u001b[0;34m)\u001b[0m\u001b[0;34m\u001b[0m\u001b[0m\n\u001b[0;32m---> 78\u001b[0;31m     \u001b[0mdf\u001b[0m\u001b[0;34m.\u001b[0m\u001b[0mstate\u001b[0m\u001b[0;34m.\u001b[0m\u001b[0mvalue_counts\u001b[0m\u001b[0;34m(\u001b[0m\u001b[0;34m)\u001b[0m\u001b[0;34m.\u001b[0m\u001b[0mplot\u001b[0m\u001b[0;34m.\u001b[0m\u001b[0mpie\u001b[0m\u001b[0;34m(\u001b[0m\u001b[0mautopct\u001b[0m\u001b[0;34m=\u001b[0m\u001b[0;34m'%0.2f%%'\u001b[0m\u001b[0;34m,\u001b[0m \u001b[0mexplode\u001b[0m\u001b[0;34m=\u001b[0m\u001b[0mexplode\u001b[0m\u001b[0;34m)\u001b[0m\u001b[0;34m\u001b[0m\u001b[0m\n\u001b[0m\u001b[1;32m     79\u001b[0m     \u001b[0mplt\u001b[0m\u001b[0;34m.\u001b[0m\u001b[0mtitle\u001b[0m\u001b[0;34m(\u001b[0m\u001b[0;34m'Breakdown of Kickstarter Project Status'\u001b[0m\u001b[0;34m)\u001b[0m\u001b[0;34m\u001b[0m\u001b[0m\n\u001b[1;32m     80\u001b[0m     \u001b[0mplt\u001b[0m\u001b[0;34m.\u001b[0m\u001b[0mylabel\u001b[0m\u001b[0;34m(\u001b[0m\u001b[0;34m''\u001b[0m\u001b[0;34m)\u001b[0m\u001b[0;34m\u001b[0m\u001b[0m\n",
      "\u001b[0;32m/anaconda/envs/py35/lib/python3.5/site-packages/pandas/plotting/_core.py\u001b[0m in \u001b[0;36mpie\u001b[0;34m(self, **kwargs)\u001b[0m\n\u001b[1;32m   1361\u001b[0m         ):\n\u001b[1;32m   1362\u001b[0m             \u001b[0;32mraise\u001b[0m \u001b[0mValueError\u001b[0m\u001b[0;34m(\u001b[0m\u001b[0;34m\"pie requires either y column or 'subplots=True'\"\u001b[0m\u001b[0;34m)\u001b[0m\u001b[0;34m\u001b[0m\u001b[0m\n\u001b[0;32m-> 1363\u001b[0;31m         \u001b[0;32mreturn\u001b[0m \u001b[0mself\u001b[0m\u001b[0;34m(\u001b[0m\u001b[0mkind\u001b[0m\u001b[0;34m=\u001b[0m\u001b[0;34m\"pie\"\u001b[0m\u001b[0;34m,\u001b[0m \u001b[0;34m**\u001b[0m\u001b[0mkwargs\u001b[0m\u001b[0;34m)\u001b[0m\u001b[0;34m\u001b[0m\u001b[0m\n\u001b[0m\u001b[1;32m   1364\u001b[0m \u001b[0;34m\u001b[0m\u001b[0m\n\u001b[1;32m   1365\u001b[0m     \u001b[0;32mdef\u001b[0m \u001b[0mscatter\u001b[0m\u001b[0;34m(\u001b[0m\u001b[0mself\u001b[0m\u001b[0;34m,\u001b[0m \u001b[0mx\u001b[0m\u001b[0;34m,\u001b[0m \u001b[0my\u001b[0m\u001b[0;34m,\u001b[0m \u001b[0ms\u001b[0m\u001b[0;34m=\u001b[0m\u001b[0;32mNone\u001b[0m\u001b[0;34m,\u001b[0m \u001b[0mc\u001b[0m\u001b[0;34m=\u001b[0m\u001b[0;32mNone\u001b[0m\u001b[0;34m,\u001b[0m \u001b[0;34m**\u001b[0m\u001b[0mkwargs\u001b[0m\u001b[0;34m)\u001b[0m\u001b[0;34m:\u001b[0m\u001b[0;34m\u001b[0m\u001b[0m\n",
      "\u001b[0;32m/anaconda/envs/py35/lib/python3.5/site-packages/pandas/plotting/_core.py\u001b[0m in \u001b[0;36m__call__\u001b[0;34m(self, *args, **kwargs)\u001b[0m\n\u001b[1;32m    792\u001b[0m                     \u001b[0mdata\u001b[0m\u001b[0;34m.\u001b[0m\u001b[0mcolumns\u001b[0m \u001b[0;34m=\u001b[0m \u001b[0mlabel_name\u001b[0m\u001b[0;34m\u001b[0m\u001b[0m\n\u001b[1;32m    793\u001b[0m \u001b[0;34m\u001b[0m\u001b[0m\n\u001b[0;32m--> 794\u001b[0;31m         \u001b[0;32mreturn\u001b[0m \u001b[0mplot_backend\u001b[0m\u001b[0;34m.\u001b[0m\u001b[0mplot\u001b[0m\u001b[0;34m(\u001b[0m\u001b[0mdata\u001b[0m\u001b[0;34m,\u001b[0m \u001b[0mkind\u001b[0m\u001b[0;34m=\u001b[0m\u001b[0mkind\u001b[0m\u001b[0;34m,\u001b[0m \u001b[0;34m**\u001b[0m\u001b[0mkwargs\u001b[0m\u001b[0;34m)\u001b[0m\u001b[0;34m\u001b[0m\u001b[0m\n\u001b[0m\u001b[1;32m    795\u001b[0m \u001b[0;34m\u001b[0m\u001b[0m\n\u001b[1;32m    796\u001b[0m     \u001b[0;32mdef\u001b[0m \u001b[0mline\u001b[0m\u001b[0;34m(\u001b[0m\u001b[0mself\u001b[0m\u001b[0;34m,\u001b[0m \u001b[0mx\u001b[0m\u001b[0;34m=\u001b[0m\u001b[0;32mNone\u001b[0m\u001b[0;34m,\u001b[0m \u001b[0my\u001b[0m\u001b[0;34m=\u001b[0m\u001b[0;32mNone\u001b[0m\u001b[0;34m,\u001b[0m \u001b[0;34m**\u001b[0m\u001b[0mkwargs\u001b[0m\u001b[0;34m)\u001b[0m\u001b[0;34m:\u001b[0m\u001b[0;34m\u001b[0m\u001b[0m\n",
      "\u001b[0;32m/anaconda/envs/py35/lib/python3.5/site-packages/pandas/plotting/_matplotlib/__init__.py\u001b[0m in \u001b[0;36mplot\u001b[0;34m(data, kind, **kwargs)\u001b[0m\n\u001b[1;32m     60\u001b[0m             \u001b[0mkwargs\u001b[0m\u001b[0;34m[\u001b[0m\u001b[0;34m\"ax\"\u001b[0m\u001b[0;34m]\u001b[0m \u001b[0;34m=\u001b[0m \u001b[0mgetattr\u001b[0m\u001b[0;34m(\u001b[0m\u001b[0max\u001b[0m\u001b[0;34m,\u001b[0m \u001b[0;34m\"left_ax\"\u001b[0m\u001b[0;34m,\u001b[0m \u001b[0max\u001b[0m\u001b[0;34m)\u001b[0m\u001b[0;34m\u001b[0m\u001b[0m\n\u001b[1;32m     61\u001b[0m     \u001b[0mplot_obj\u001b[0m \u001b[0;34m=\u001b[0m \u001b[0mPLOT_CLASSES\u001b[0m\u001b[0;34m[\u001b[0m\u001b[0mkind\u001b[0m\u001b[0;34m]\u001b[0m\u001b[0;34m(\u001b[0m\u001b[0mdata\u001b[0m\u001b[0;34m,\u001b[0m \u001b[0;34m**\u001b[0m\u001b[0mkwargs\u001b[0m\u001b[0;34m)\u001b[0m\u001b[0;34m\u001b[0m\u001b[0m\n\u001b[0;32m---> 62\u001b[0;31m     \u001b[0mplot_obj\u001b[0m\u001b[0;34m.\u001b[0m\u001b[0mgenerate\u001b[0m\u001b[0;34m(\u001b[0m\u001b[0;34m)\u001b[0m\u001b[0;34m\u001b[0m\u001b[0m\n\u001b[0m\u001b[1;32m     63\u001b[0m     \u001b[0mplot_obj\u001b[0m\u001b[0;34m.\u001b[0m\u001b[0mdraw\u001b[0m\u001b[0;34m(\u001b[0m\u001b[0;34m)\u001b[0m\u001b[0;34m\u001b[0m\u001b[0m\n\u001b[1;32m     64\u001b[0m     \u001b[0;32mreturn\u001b[0m \u001b[0mplot_obj\u001b[0m\u001b[0;34m.\u001b[0m\u001b[0mresult\u001b[0m\u001b[0;34m\u001b[0m\u001b[0m\n",
      "\u001b[0;32m/anaconda/envs/py35/lib/python3.5/site-packages/pandas/plotting/_matplotlib/core.py\u001b[0m in \u001b[0;36mgenerate\u001b[0;34m(self)\u001b[0m\n\u001b[1;32m    279\u001b[0m         \u001b[0mself\u001b[0m\u001b[0;34m.\u001b[0m\u001b[0m_compute_plot_data\u001b[0m\u001b[0;34m(\u001b[0m\u001b[0;34m)\u001b[0m\u001b[0;34m\u001b[0m\u001b[0m\n\u001b[1;32m    280\u001b[0m         \u001b[0mself\u001b[0m\u001b[0;34m.\u001b[0m\u001b[0m_setup_subplots\u001b[0m\u001b[0;34m(\u001b[0m\u001b[0;34m)\u001b[0m\u001b[0;34m\u001b[0m\u001b[0m\n\u001b[0;32m--> 281\u001b[0;31m         \u001b[0mself\u001b[0m\u001b[0;34m.\u001b[0m\u001b[0m_make_plot\u001b[0m\u001b[0;34m(\u001b[0m\u001b[0;34m)\u001b[0m\u001b[0;34m\u001b[0m\u001b[0m\n\u001b[0m\u001b[1;32m    282\u001b[0m         \u001b[0mself\u001b[0m\u001b[0;34m.\u001b[0m\u001b[0m_add_table\u001b[0m\u001b[0;34m(\u001b[0m\u001b[0;34m)\u001b[0m\u001b[0;34m\u001b[0m\u001b[0m\n\u001b[1;32m    283\u001b[0m         \u001b[0mself\u001b[0m\u001b[0;34m.\u001b[0m\u001b[0m_make_legend\u001b[0m\u001b[0;34m(\u001b[0m\u001b[0;34m)\u001b[0m\u001b[0;34m\u001b[0m\u001b[0m\n",
      "\u001b[0;32m/anaconda/envs/py35/lib/python3.5/site-packages/pandas/plotting/_matplotlib/core.py\u001b[0m in \u001b[0;36m_make_plot\u001b[0;34m(self)\u001b[0m\n\u001b[1;32m   1485\u001b[0m             \u001b[0;32melse\u001b[0m\u001b[0;34m:\u001b[0m\u001b[0;34m\u001b[0m\u001b[0m\n\u001b[1;32m   1486\u001b[0m                 \u001b[0mblabels\u001b[0m \u001b[0;34m=\u001b[0m \u001b[0;32mNone\u001b[0m\u001b[0;34m\u001b[0m\u001b[0m\n\u001b[0;32m-> 1487\u001b[0;31m             \u001b[0mresults\u001b[0m \u001b[0;34m=\u001b[0m \u001b[0max\u001b[0m\u001b[0;34m.\u001b[0m\u001b[0mpie\u001b[0m\u001b[0;34m(\u001b[0m\u001b[0my\u001b[0m\u001b[0;34m,\u001b[0m \u001b[0mlabels\u001b[0m\u001b[0;34m=\u001b[0m\u001b[0mblabels\u001b[0m\u001b[0;34m,\u001b[0m \u001b[0;34m**\u001b[0m\u001b[0mkwds\u001b[0m\u001b[0;34m)\u001b[0m\u001b[0;34m\u001b[0m\u001b[0m\n\u001b[0m\u001b[1;32m   1488\u001b[0m \u001b[0;34m\u001b[0m\u001b[0m\n\u001b[1;32m   1489\u001b[0m             \u001b[0;32mif\u001b[0m \u001b[0mkwds\u001b[0m\u001b[0;34m.\u001b[0m\u001b[0mget\u001b[0m\u001b[0;34m(\u001b[0m\u001b[0;34m\"autopct\"\u001b[0m\u001b[0;34m,\u001b[0m \u001b[0;32mNone\u001b[0m\u001b[0;34m)\u001b[0m \u001b[0;32mis\u001b[0m \u001b[0;32mnot\u001b[0m \u001b[0;32mNone\u001b[0m\u001b[0;34m:\u001b[0m\u001b[0;34m\u001b[0m\u001b[0m\n",
      "\u001b[0;32m/anaconda/envs/py35/lib/python3.5/site-packages/matplotlib/__init__.py\u001b[0m in \u001b[0;36minner\u001b[0;34m(ax, data, *args, **kwargs)\u001b[0m\n\u001b[1;32m   1783\u001b[0m                         \u001b[0;34m\"the Matplotlib list!)\"\u001b[0m \u001b[0;34m%\u001b[0m \u001b[0;34m(\u001b[0m\u001b[0mlabel_namer\u001b[0m\u001b[0;34m,\u001b[0m \u001b[0mfunc\u001b[0m\u001b[0;34m.\u001b[0m\u001b[0m__name__\u001b[0m\u001b[0;34m)\u001b[0m\u001b[0;34m,\u001b[0m\u001b[0;34m\u001b[0m\u001b[0m\n\u001b[1;32m   1784\u001b[0m                         RuntimeWarning, stacklevel=2)\n\u001b[0;32m-> 1785\u001b[0;31m             \u001b[0;32mreturn\u001b[0m \u001b[0mfunc\u001b[0m\u001b[0;34m(\u001b[0m\u001b[0max\u001b[0m\u001b[0;34m,\u001b[0m \u001b[0;34m*\u001b[0m\u001b[0margs\u001b[0m\u001b[0;34m,\u001b[0m \u001b[0;34m**\u001b[0m\u001b[0mkwargs\u001b[0m\u001b[0;34m)\u001b[0m\u001b[0;34m\u001b[0m\u001b[0m\n\u001b[0m\u001b[1;32m   1786\u001b[0m \u001b[0;34m\u001b[0m\u001b[0m\n\u001b[1;32m   1787\u001b[0m         inner.__doc__ = _add_data_doc(inner.__doc__,\n",
      "\u001b[0;32m/anaconda/envs/py35/lib/python3.5/site-packages/matplotlib/axes/_axes.py\u001b[0m in \u001b[0;36mpie\u001b[0;34m(self, x, explode, labels, colors, autopct, pctdistance, shadow, labeldistance, startangle, radius, counterclock, wedgeprops, textprops, center, frame, rotatelabels)\u001b[0m\n\u001b[1;32m   2803\u001b[0m             \u001b[0;32mraise\u001b[0m \u001b[0mValueError\u001b[0m\u001b[0;34m(\u001b[0m\u001b[0;34m\"'label' must be of length 'x'\"\u001b[0m\u001b[0;34m)\u001b[0m\u001b[0;34m\u001b[0m\u001b[0m\n\u001b[1;32m   2804\u001b[0m         \u001b[0;32mif\u001b[0m \u001b[0mlen\u001b[0m\u001b[0;34m(\u001b[0m\u001b[0mx\u001b[0m\u001b[0;34m)\u001b[0m \u001b[0;34m!=\u001b[0m \u001b[0mlen\u001b[0m\u001b[0;34m(\u001b[0m\u001b[0mexplode\u001b[0m\u001b[0;34m)\u001b[0m\u001b[0;34m:\u001b[0m\u001b[0;34m\u001b[0m\u001b[0m\n\u001b[0;32m-> 2805\u001b[0;31m             \u001b[0;32mraise\u001b[0m \u001b[0mValueError\u001b[0m\u001b[0;34m(\u001b[0m\u001b[0;34m\"'explode' must be of length 'x'\"\u001b[0m\u001b[0;34m)\u001b[0m\u001b[0;34m\u001b[0m\u001b[0m\n\u001b[0m\u001b[1;32m   2806\u001b[0m         \u001b[0;32mif\u001b[0m \u001b[0mcolors\u001b[0m \u001b[0;32mis\u001b[0m \u001b[0;32mNone\u001b[0m\u001b[0;34m:\u001b[0m\u001b[0;34m\u001b[0m\u001b[0m\n\u001b[1;32m   2807\u001b[0m             \u001b[0mget_next_color\u001b[0m \u001b[0;34m=\u001b[0m \u001b[0mself\u001b[0m\u001b[0;34m.\u001b[0m\u001b[0m_get_patches_for_fill\u001b[0m\u001b[0;34m.\u001b[0m\u001b[0mget_next_color\u001b[0m\u001b[0;34m\u001b[0m\u001b[0m\n",
      "\u001b[0;31mValueError\u001b[0m: 'explode' must be of length 'x'"
     ]
    },
    {
     "data": {
      "image/png": "[encoded data removed]",
      "text/plain": [
       "<Figure size 600x400 with 1 Axes>"
      ]
     },
     "metadata": {},
     "output_type": "display_data"
    }
   ],
   "source": [
    "visio.plot_distriubtion_by_state_slice(df)"
   ]
  },
  {
   "cell_type": "markdown",
   "metadata": {},
   "source": [
    "Since live projects can't be used, we'll clear them out and also unite suspended and canceled project to be labled as failed. which gives us:"
   ]
  },
  {
   "cell_type": "code",
   "execution_count": null,
   "metadata": {},
   "outputs": [],
   "source": [
    "dc.fix_state(df) #deletes live projects and unites failed.\n",
    "df.reset_index(drop=True, inplace=True)\n",
    "print(df.state.value_counts())\n",
    "visio.plot_distriubtion_by_state_slice(df, explode = [0,0])\n",
    "num_recs = len(df.index)\n",
    "print('After processing there are {} records in data'.format(num_recs))\n"
   ]
  },
  {
   "cell_type": "markdown",
   "metadata": {},
   "source": [
    "Cool. Looks like our data is balanced, and projects in our data set are eaqualy likely to fail or succeed."
   ]
  },
  {
   "cell_type": "markdown",
   "metadata": {},
   "source": [
    "Now, let's take a look at how our data distributes globaly.\n",
    "projects by origin country:"
   ]
  },
  {
   "cell_type": "code",
   "execution_count": null,
   "metadata": {},
   "outputs": [],
   "source": [
    "visio.plot_success_by_country(df)"
   ]
  },
  {
   "cell_type": "markdown",
   "metadata": {},
   "source": [
    "Thoose americans are always too big, let's try and give focus to the rest of the world as well:"
   ]
  },
  {
   "cell_type": "code",
   "execution_count": null,
   "metadata": {},
   "outputs": [],
   "source": [
    "visio.plot_success_by_country(df.loc[df['country'] != 'US'])"
   ]
  },
  {
   "cell_type": "markdown",
   "metadata": {},
   "source": [
    "Let's see how success distributes by catagory:"
   ]
  },
  {
   "cell_type": "code",
   "execution_count": null,
   "metadata": {},
   "outputs": [],
   "source": [
    "visio.plot_success_by_category(df)"
   ]
  },
  {
   "cell_type": "markdown",
   "metadata": {},
   "source": [
    "It seems as product catagory has an impact on campaign result. Our data set allows us to view this in even finer granularity, by sub catagories:"
   ]
  },
  {
   "cell_type": "code",
   "execution_count": null,
   "metadata": {},
   "outputs": [],
   "source": [
    "visio.plot_success_by_sub_category(df)"
   ]
  },
  {
   "cell_type": "markdown",
   "metadata": {},
   "source": [
    "Another thing to factor in is seasonality, let's see if there is any change in the success depending on project start month. To be able to look at this data over several years, we'll add specific month and year columns for launched_at and deadline. We will also add a field calculating the delta in months between launch and deadline."
   ]
  },
  {
   "cell_type": "code",
   "execution_count": null,
   "metadata": {},
   "outputs": [],
   "source": [
    "dc.extract_month_and_year(df, ['launched_at','deadline'])\n",
    "dc.add_destination_delta_in_days(df)\n",
    "visio.plot_success_by_launched_month(df)"
   ]
  },
  {
   "cell_type": "markdown",
   "metadata": {},
   "source": [
    "Overall, looking at the whole period of given data:"
   ]
  },
  {
   "cell_type": "code",
   "execution_count": null,
   "metadata": {},
   "outputs": [],
   "source": [
    "visio.plot_success_over_time(df)"
   ]
  },
  {
   "cell_type": "markdown",
   "metadata": {},
   "source": [
    "Let's see how the duration of the campaign affects the probability of success."
   ]
  },
  {
   "cell_type": "code",
   "execution_count": null,
   "metadata": {},
   "outputs": [],
   "source": [
    "visio.plot_success_by_destination_delta_in_days(df)"
   ]
  },
  {
   "cell_type": "code",
   "execution_count": null,
   "metadata": {},
   "outputs": [],
   "source": [
    "inner = df.loc[df['goal']<30000]\n",
    "sns.distplot(inner['goal']).set(xlim=(0))\n",
    "print('number of records out of range:',len(df.loc[df['goal']>30000]))"
   ]
  },
  {
   "cell_type": "code",
   "execution_count": null,
   "metadata": {},
   "outputs": [],
   "source": [
    "inner = df.loc[df['goal']>30000]\n",
    "inner = inner.loc[df['goal']<200000]\n",
    "sns.distplot(inner['goal']).set(xlim=(0))\n",
    "#print('number of records out of range:',len(df.loc[df['goal']<50000]))"
   ]
  },
  {
   "cell_type": "code",
   "execution_count": null,
   "metadata": {},
   "outputs": [],
   "source": [
    "inner = df.loc[df['goal']<80000]\n",
    "sns.distplot(inner['goal']).set(xlim=(0))\n",
    "print('number of records out of range:',len(df.loc[df['goal']>80000]))"
   ]
  },
  {
   "cell_type": "code",
   "execution_count": null,
   "metadata": {},
   "outputs": [],
   "source": [
    "cent = df.loc[df['goal']<30000]\n",
    "cent.plot.scatter(x='goal',y='pledged')"
   ]
  },
  {
   "cell_type": "markdown",
   "metadata": {},
   "source": [
    "Now, Let's try running a few naive models and see what it is that we are dealing with here."
   ]
  },
  {
   "cell_type": "code",
   "execution_count": null,
   "metadata": {},
   "outputs": [],
   "source": [
    "import knn_model as knn\n",
    "import logistic_regression_model as logistic\n",
    "import random_forest_model as forest\n",
    "import gradient_boosting_model as gradient_boosting"
   ]
  },
  {
   "cell_type": "code",
   "execution_count": null,
   "metadata": {},
   "outputs": [],
   "source": [
    "logReg_pr = logistic.run_model(df)\n",
    "models = {'Logistic regression' : logReg_pr}"
   ]
  },
  {
   "cell_type": "markdown",
   "metadata": {},
   "source": [
    "Let's try a few other models: KNN, Random forest and gradient boosting."
   ]
  },
  {
   "cell_type": "code",
   "execution_count": null,
   "metadata": {},
   "outputs": [],
   "source": [
    "knn_pr = knn.run_model(df,18)\n",
    "models['KNN'] = knn_pr"
   ]
  },
  {
   "cell_type": "code",
   "execution_count": null,
   "metadata": {},
   "outputs": [],
   "source": [
    "forest_pr = forest.run_model(df,950)\n",
    "models['Random forest'] = forest_pr"
   ]
  },
  {
   "cell_type": "code",
   "execution_count": null,
   "metadata": {},
   "outputs": [],
   "source": [
    "boost_pr = gradient_boosting.run_model(df, 1000)\n",
    "models['Gradient boost'] = boost_pr"
   ]
  },
  {
   "cell_type": "code",
   "execution_count": null,
   "metadata": {},
   "outputs": [],
   "source": [
    "visio.plot_precision(models)"
   ]
  },
  {
   "cell_type": "code",
   "execution_count": null,
   "metadata": {},
   "outputs": [],
   "source": [
    "df.to_pickle('cleaned.pickle')"
   ]
  },
  {
   "cell_type": "code",
   "execution_count": null,
   "metadata": {},
   "outputs": [],
   "source": []
  },
  {
   "cell_type": "code",
   "execution_count": null,
   "metadata": {},
   "outputs": [],
   "source": [
    "dc.get_image_url(df)"
   ]
  },
  {
   "cell_type": "code",
   "execution_count": null,
   "metadata": {},
   "outputs": [],
   "source": []
  }
 ],
 "metadata": {
  "kernelspec": {
   "display_name": "Python 3.5",
   "language": "python",
   "name": "python3"
  },
  "language_info": {
   "codemirror_mode": {
    "name": "ipython",
    "version": 3
   },
   "file_extension": ".py",
   "mimetype": "text/x-python",
   "name": "python",
   "nbconvert_exporter": "python",
   "pygments_lexer": "ipython3",
   "version": "3.5.6"
  }
 },
 "nbformat": 4,
 "nbformat_minor": 2
}
