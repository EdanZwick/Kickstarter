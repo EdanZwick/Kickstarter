{
 "cells": [
  {
   "cell_type": "markdown",
   "metadata": {},
   "source": [
    "# Kickstarter project (need to spell check)\n",
    "## Our project for this semester is to try and predict whether a fundraising campaign in kickstarter will succeed or not.\n",
    "\n",
    "This type of prediction can actualy be useful in several scenarios, whether for an entrepreneur trying to evaluate his chances, the kickstarter company itself that would like to promote promising campaigns or for an investor considering backing a company.\n",
    "\n",
    "There are a few datasets available in kaggle such as: [here](https://www.kaggle.com/codename007/funding-successful-projects) and [here](https://www.kaggle.com/kemical/kickstarter-projects). These datasets are more limited timespan wise and in their richness of data. The dataset that we used in our project is offered [here](https://webrobots.io/kickstarter-datasets/). It is very large and somewhat messy, so our first steps are going to be devoted to get to know this dataset and clean it up so we can use it easily.\n",
    "\n",
    "The data is spread around some 57 very large csv files. Our first step would be to unify it all into a single dataframe, and explore the columns:"
   ]
  },
  {
   "cell_type": "code",
   "execution_count": 1,
   "metadata": {},
   "outputs": [],
   "source": [
    "import pandas as pd\n",
    "import matplotlib.pyplot as plt\n",
    "import dataCleaning as dc\n",
    "import visio\n",
    "import seaborn as sns\n",
    "%matplotlib inline"
   ]
  },
  {
   "cell_type": "code",
   "execution_count": 2,
   "metadata": {},
   "outputs": [
    {
     "name": "stdout",
     "output_type": "stream",
     "text": [
      "read dataframe from cache rick.pickle\n"
     ]
    },
    {
     "data": {
      "text/html": [
       "<div>\n",
       "<style scoped>\n",
       "    .dataframe tbody tr th:only-of-type {\n",
       "        vertical-align: middle;\n",
       "    }\n",
       "\n",
       "    .dataframe tbody tr th {\n",
       "        vertical-align: top;\n",
       "    }\n",
       "\n",
       "    .dataframe thead th {\n",
       "        text-align: right;\n",
       "    }\n",
       "</style>\n",
       "<table border=\"1\" class=\"dataframe\">\n",
       "  <thead>\n",
       "    <tr style=\"text-align: right;\">\n",
       "      <th></th>\n",
       "      <th>backers_count</th>\n",
       "      <th>blurb</th>\n",
       "      <th>category</th>\n",
       "      <th>converted_pledged_amount</th>\n",
       "      <th>country</th>\n",
       "      <th>country_displayable_name</th>\n",
       "      <th>created_at</th>\n",
       "      <th>creator</th>\n",
       "      <th>currency</th>\n",
       "      <th>currency_symbol</th>\n",
       "      <th>...</th>\n",
       "      <th>slug</th>\n",
       "      <th>source_url</th>\n",
       "      <th>spotlight</th>\n",
       "      <th>staff_pick</th>\n",
       "      <th>state</th>\n",
       "      <th>state_changed_at</th>\n",
       "      <th>static_usd_rate</th>\n",
       "      <th>urls</th>\n",
       "      <th>usd_pledged</th>\n",
       "      <th>usd_type</th>\n",
       "    </tr>\n",
       "  </thead>\n",
       "  <tbody>\n",
       "    <tr>\n",
       "      <td>0</td>\n",
       "      <td>1</td>\n",
       "      <td>Family Cafe and Brewery that serves our incred...</td>\n",
       "      <td>{\"id\":312,\"name\":\"Restaurants\",\"slug\":\"food/re...</td>\n",
       "      <td>10</td>\n",
       "      <td>US</td>\n",
       "      <td>the United States</td>\n",
       "      <td>1442537392</td>\n",
       "      <td>{\"id\":404037385,\"name\":\"tina vo\",\"is_registere...</td>\n",
       "      <td>USD</td>\n",
       "      <td>$</td>\n",
       "      <td>...</td>\n",
       "      <td>your-cafe</td>\n",
       "      <td>https://www.kickstarter.com/discover/categorie...</td>\n",
       "      <td>False</td>\n",
       "      <td>False</td>\n",
       "      <td>failed</td>\n",
       "      <td>1448085184</td>\n",
       "      <td>1.000000</td>\n",
       "      <td>{\"web\":{\"project\":\"https://www.kickstarter.com...</td>\n",
       "      <td>10.000000</td>\n",
       "      <td>international</td>\n",
       "    </tr>\n",
       "    <tr>\n",
       "      <td>1</td>\n",
       "      <td>9</td>\n",
       "      <td>Patented tilting table technology makes this g...</td>\n",
       "      <td>{\"id\":271,\"name\":\"Live Games\",\"slug\":\"games/li...</td>\n",
       "      <td>1179</td>\n",
       "      <td>US</td>\n",
       "      <td>the United States</td>\n",
       "      <td>1450797872</td>\n",
       "      <td>{\"id\":480973030,\"name\":\"Lightwerks, LLC\",\"slug...</td>\n",
       "      <td>USD</td>\n",
       "      <td>$</td>\n",
       "      <td>...</td>\n",
       "      <td>tabletop-football-best-new-tailgating-game-for...</td>\n",
       "      <td>https://www.kickstarter.com/discover/categorie...</td>\n",
       "      <td>False</td>\n",
       "      <td>False</td>\n",
       "      <td>canceled</td>\n",
       "      <td>1474634950</td>\n",
       "      <td>1.000000</td>\n",
       "      <td>{\"web\":{\"project\":\"https://www.kickstarter.com...</td>\n",
       "      <td>1179.000000</td>\n",
       "      <td>international</td>\n",
       "    </tr>\n",
       "    <tr>\n",
       "      <td>2</td>\n",
       "      <td>11</td>\n",
       "      <td>magnetic window cleaner,you can stand outside ...</td>\n",
       "      <td>{\"id\":337,\"name\":\"Gadgets\",\"slug\":\"technology/...</td>\n",
       "      <td>311</td>\n",
       "      <td>US</td>\n",
       "      <td>the United States</td>\n",
       "      <td>1485037783</td>\n",
       "      <td>{\"id\":612501588,\"name\":\"mark woods\",\"is_regist...</td>\n",
       "      <td>USD</td>\n",
       "      <td>$</td>\n",
       "      <td>...</td>\n",
       "      <td>easy-clean-car-window-cleaner</td>\n",
       "      <td>https://www.kickstarter.com/discover/categorie...</td>\n",
       "      <td>False</td>\n",
       "      <td>False</td>\n",
       "      <td>failed</td>\n",
       "      <td>1488659761</td>\n",
       "      <td>1.000000</td>\n",
       "      <td>{\"web\":{\"project\":\"https://www.kickstarter.com...</td>\n",
       "      <td>311.000000</td>\n",
       "      <td>domestic</td>\n",
       "    </tr>\n",
       "    <tr>\n",
       "      <td>3</td>\n",
       "      <td>12</td>\n",
       "      <td>A spiral life planner created BY a chronic pai...</td>\n",
       "      <td>{\"id\":325,\"name\":\"Calendars\",\"slug\":\"publishin...</td>\n",
       "      <td>488</td>\n",
       "      <td>US</td>\n",
       "      <td>the United States</td>\n",
       "      <td>1535305714</td>\n",
       "      <td>{\"id\":520931083,\"name\":\"McKenna\",\"slug\":\"warri...</td>\n",
       "      <td>USD</td>\n",
       "      <td>$</td>\n",
       "      <td>...</td>\n",
       "      <td>warrior-life-planner</td>\n",
       "      <td>https://www.kickstarter.com/discover/categorie...</td>\n",
       "      <td>False</td>\n",
       "      <td>False</td>\n",
       "      <td>failed</td>\n",
       "      <td>1540962000</td>\n",
       "      <td>1.000000</td>\n",
       "      <td>{\"web\":{\"project\":\"https://www.kickstarter.com...</td>\n",
       "      <td>488.000000</td>\n",
       "      <td>international</td>\n",
       "    </tr>\n",
       "    <tr>\n",
       "      <td>4</td>\n",
       "      <td>39</td>\n",
       "      <td>A full-cast, feature-length audio drama produc...</td>\n",
       "      <td>{\"id\":239,\"name\":\"Radio &amp; Podcasts\",\"slug\":\"pu...</td>\n",
       "      <td>3809</td>\n",
       "      <td>GB</td>\n",
       "      <td>the United Kingdom</td>\n",
       "      <td>1547286149</td>\n",
       "      <td>{\"id\":129272378,\"name\":\"Graham Richards\",\"is_r...</td>\n",
       "      <td>GBP</td>\n",
       "      <td>£</td>\n",
       "      <td>...</td>\n",
       "      <td>hawk-the-slayer-part-one-of-an-audio-trilogy</td>\n",
       "      <td>https://www.kickstarter.com/discover/categorie...</td>\n",
       "      <td>False</td>\n",
       "      <td>False</td>\n",
       "      <td>live</td>\n",
       "      <td>1572001457</td>\n",
       "      <td>1.291421</td>\n",
       "      <td>{\"web\":{\"project\":\"https://www.kickstarter.com...</td>\n",
       "      <td>3829.062376</td>\n",
       "      <td>domestic</td>\n",
       "    </tr>\n",
       "  </tbody>\n",
       "</table>\n",
       "<p>5 rows × 38 columns</p>\n",
       "</div>"
      ],
      "text/plain": [
       "   backers_count                                              blurb  \\\n",
       "0              1  Family Cafe and Brewery that serves our incred...   \n",
       "1              9  Patented tilting table technology makes this g...   \n",
       "2             11  magnetic window cleaner,you can stand outside ...   \n",
       "3             12  A spiral life planner created BY a chronic pai...   \n",
       "4             39  A full-cast, feature-length audio drama produc...   \n",
       "\n",
       "                                            category  \\\n",
       "0  {\"id\":312,\"name\":\"Restaurants\",\"slug\":\"food/re...   \n",
       "1  {\"id\":271,\"name\":\"Live Games\",\"slug\":\"games/li...   \n",
       "2  {\"id\":337,\"name\":\"Gadgets\",\"slug\":\"technology/...   \n",
       "3  {\"id\":325,\"name\":\"Calendars\",\"slug\":\"publishin...   \n",
       "4  {\"id\":239,\"name\":\"Radio & Podcasts\",\"slug\":\"pu...   \n",
       "\n",
       "   converted_pledged_amount country country_displayable_name  created_at  \\\n",
       "0                        10      US        the United States  1442537392   \n",
       "1                      1179      US        the United States  1450797872   \n",
       "2                       311      US        the United States  1485037783   \n",
       "3                       488      US        the United States  1535305714   \n",
       "4                      3809      GB       the United Kingdom  1547286149   \n",
       "\n",
       "                                             creator currency currency_symbol  \\\n",
       "0  {\"id\":404037385,\"name\":\"tina vo\",\"is_registere...      USD               $   \n",
       "1  {\"id\":480973030,\"name\":\"Lightwerks, LLC\",\"slug...      USD               $   \n",
       "2  {\"id\":612501588,\"name\":\"mark woods\",\"is_regist...      USD               $   \n",
       "3  {\"id\":520931083,\"name\":\"McKenna\",\"slug\":\"warri...      USD               $   \n",
       "4  {\"id\":129272378,\"name\":\"Graham Richards\",\"is_r...      GBP               £   \n",
       "\n",
       "   ...                                               slug  \\\n",
       "0  ...                                          your-cafe   \n",
       "1  ...  tabletop-football-best-new-tailgating-game-for...   \n",
       "2  ...                      easy-clean-car-window-cleaner   \n",
       "3  ...                               warrior-life-planner   \n",
       "4  ...       hawk-the-slayer-part-one-of-an-audio-trilogy   \n",
       "\n",
       "                                          source_url  spotlight  staff_pick  \\\n",
       "0  https://www.kickstarter.com/discover/categorie...      False       False   \n",
       "1  https://www.kickstarter.com/discover/categorie...      False       False   \n",
       "2  https://www.kickstarter.com/discover/categorie...      False       False   \n",
       "3  https://www.kickstarter.com/discover/categorie...      False       False   \n",
       "4  https://www.kickstarter.com/discover/categorie...      False       False   \n",
       "\n",
       "      state  state_changed_at  static_usd_rate  \\\n",
       "0    failed        1448085184         1.000000   \n",
       "1  canceled        1474634950         1.000000   \n",
       "2    failed        1488659761         1.000000   \n",
       "3    failed        1540962000         1.000000   \n",
       "4      live        1572001457         1.291421   \n",
       "\n",
       "                                                urls  usd_pledged  \\\n",
       "0  {\"web\":{\"project\":\"https://www.kickstarter.com...    10.000000   \n",
       "1  {\"web\":{\"project\":\"https://www.kickstarter.com...  1179.000000   \n",
       "2  {\"web\":{\"project\":\"https://www.kickstarter.com...   311.000000   \n",
       "3  {\"web\":{\"project\":\"https://www.kickstarter.com...   488.000000   \n",
       "4  {\"web\":{\"project\":\"https://www.kickstarter.com...  3829.062376   \n",
       "\n",
       "        usd_type  \n",
       "0  international  \n",
       "1  international  \n",
       "2       domestic  \n",
       "3  international  \n",
       "4       domestic  \n",
       "\n",
       "[5 rows x 38 columns]"
      ]
     },
     "execution_count": 2,
     "metadata": {},
     "output_type": "execute_result"
    }
   ],
   "source": [
    "df = dc.make_dataframe() #Files are assumed to be located in rawData sub.dir. caches pickle in cwd.\n",
    "#print first few rows\n",
    "df.head()"
   ]
  },
  {
   "cell_type": "markdown",
   "metadata": {},
   "source": [
    "Great! Let's get a few details about this data: What are the features, how many records exist:"
   ]
  },
  {
   "cell_type": "code",
   "execution_count": 3,
   "metadata": {},
   "outputs": [
    {
     "name": "stdout",
     "output_type": "stream",
     "text": [
      "['backers_count', 'blurb', 'category', 'converted_pledged_amount', 'country', 'country_displayable_name', 'created_at', 'creator', 'currency', 'currency_symbol', 'currency_trailing_code', 'current_currency', 'deadline', 'disable_communication', 'friends', 'fx_rate', 'goal', 'id', 'is_backing', 'is_starrable', 'is_starred', 'launched_at', 'location', 'name', 'permissions', 'photo', 'pledged', 'profile', 'slug', 'source_url', 'spotlight', 'staff_pick', 'state', 'state_changed_at', 'static_usd_rate', 'urls', 'usd_pledged', 'usd_type']\n",
      "\n",
      "There are originaly  211,424 records in data\n"
     ]
    }
   ],
   "source": [
    "cols = list(df.columns.values)\n",
    "print(cols)\n",
    "num_recs = len(df.index)\n",
    "print()\n",
    "print('There are originaly ', f'{num_recs:,}' , 'records in data')"
   ]
  },
  {
   "cell_type": "markdown",
   "metadata": {},
   "source": [
    "We can already see redundant attributes which we are sure we will not need (used for display purpases). Let's start with dropping these.\n"
   ]
  },
  {
   "cell_type": "code",
   "execution_count": 4,
   "metadata": {},
   "outputs": [
    {
     "name": "stdout",
     "output_type": "stream",
     "text": [
      "sanity check, print new columns:\n",
      "['backers_count', 'blurb', 'category', 'converted_pledged_amount', 'country', 'created_at', 'creator', 'currency', 'deadline', 'friends', 'fx_rate', 'goal', 'id', 'is_backing', 'is_starrable', 'is_starred', 'launched_at', 'location', 'name', 'permissions', 'pledged', 'slug', 'spotlight', 'staff_pick', 'state', 'state_changed_at']\n"
     ]
    }
   ],
   "source": [
    "redundant = ['country_displayable_name', 'currency_symbol', 'currency_trailing_code', 'current_currency',\n",
    "             'source_url','disable_communication', 'profile','urls','photo', 'static_usd_rate', 'usd_pledged', 'usd_type']\n",
    "df.drop(columns=redundant, inplace=True)\n",
    "print('sanity check, print new columns:')\n",
    "cols = list(df.columns.values)\n",
    "print(cols)\n"
   ]
  },
  {
   "cell_type": "markdown",
   "metadata": {},
   "source": [
    "Taking a first peek at the data via Excel hints that there are still many empty columns:\n",
    "![peek](img/firstPeek.png)\n",
    "\n",
    "Let's see what columns contain mostly null values:\n"
   ]
  },
  {
   "cell_type": "code",
   "execution_count": 5,
   "metadata": {
    "scrolled": true
   },
   "outputs": [
    {
     "name": "stdout",
     "output_type": "stream",
     "text": [
      "backers_count                    0\n",
      "blurb                            8\n",
      "category                         0\n",
      "converted_pledged_amount         0\n",
      "country                          0\n",
      "created_at                       0\n",
      "creator                          0\n",
      "currency                         0\n",
      "deadline                         0\n",
      "friends                     210980\n",
      "fx_rate                          0\n",
      "goal                             0\n",
      "id                               0\n",
      "is_backing                  210980\n",
      "is_starrable                     0\n",
      "is_starred                  210980\n",
      "launched_at                      0\n",
      "location                       217\n",
      "name                             0\n",
      "permissions                 210980\n",
      "pledged                          0\n",
      "slug                             0\n",
      "spotlight                        0\n",
      "staff_pick                       0\n",
      "state                            0\n",
      "state_changed_at                 0\n",
      "dtype: int64\n"
     ]
    }
   ],
   "source": [
    "nes = df.isna().sum()\n",
    "print(nes)"
   ]
  },
  {
   "cell_type": "markdown",
   "metadata": {},
   "source": [
    "Looks like we can drop 'friends','is_backing','is_starred','permissions' as well."
   ]
  },
  {
   "cell_type": "code",
   "execution_count": 6,
   "metadata": {},
   "outputs": [
    {
     "name": "stdout",
     "output_type": "stream",
     "text": [
      "['backers_count', 'blurb', 'category', 'converted_pledged_amount', 'country', 'created_at', 'creator', 'currency', 'deadline', 'fx_rate', 'goal', 'id', 'is_starrable', 'launched_at', 'location', 'name', 'pledged', 'slug', 'spotlight', 'staff_pick', 'state', 'state_changed_at']\n"
     ]
    }
   ],
   "source": [
    "empty = ['friends','is_backing','is_starred','permissions']\n",
    "df.drop(columns=empty,inplace=True)\n",
    "cols = list(df.columns.values)\n",
    "print(cols)"
   ]
  },
  {
   "cell_type": "markdown",
   "metadata": {},
   "source": [
    "From looking at the data we can also see that the time fields are given in UNIX time. It'll be usefull ahead if we can break each date into a day month year trio. We'll run the conversion and replace each column with the corresponding 3 fields."
   ]
  },
  {
   "cell_type": "code",
   "execution_count": 7,
   "metadata": {},
   "outputs": [
    {
     "name": "stdout",
     "output_type": "stream",
     "text": [
      "sanity check\n"
     ]
    },
    {
     "data": {
      "text/html": [
       "<div>\n",
       "<style scoped>\n",
       "    .dataframe tbody tr th:only-of-type {\n",
       "        vertical-align: middle;\n",
       "    }\n",
       "\n",
       "    .dataframe tbody tr th {\n",
       "        vertical-align: top;\n",
       "    }\n",
       "\n",
       "    .dataframe thead th {\n",
       "        text-align: right;\n",
       "    }\n",
       "</style>\n",
       "<table border=\"1\" class=\"dataframe\">\n",
       "  <thead>\n",
       "    <tr style=\"text-align: right;\">\n",
       "      <th></th>\n",
       "      <th>backers_count</th>\n",
       "      <th>blurb</th>\n",
       "      <th>category</th>\n",
       "      <th>converted_pledged_amount</th>\n",
       "      <th>country</th>\n",
       "      <th>created_at</th>\n",
       "      <th>creator</th>\n",
       "      <th>currency</th>\n",
       "      <th>deadline</th>\n",
       "      <th>fx_rate</th>\n",
       "      <th>...</th>\n",
       "      <th>is_starrable</th>\n",
       "      <th>launched_at</th>\n",
       "      <th>location</th>\n",
       "      <th>name</th>\n",
       "      <th>pledged</th>\n",
       "      <th>slug</th>\n",
       "      <th>spotlight</th>\n",
       "      <th>staff_pick</th>\n",
       "      <th>state</th>\n",
       "      <th>state_changed_at</th>\n",
       "    </tr>\n",
       "  </thead>\n",
       "  <tbody>\n",
       "    <tr>\n",
       "      <td>0</td>\n",
       "      <td>1</td>\n",
       "      <td>Family Cafe and Brewery that serves our incred...</td>\n",
       "      <td>{\"id\":312,\"name\":\"Restaurants\",\"slug\":\"food/re...</td>\n",
       "      <td>10</td>\n",
       "      <td>US</td>\n",
       "      <td>2015-09-18 00:49:52</td>\n",
       "      <td>{\"id\":404037385,\"name\":\"tina vo\",\"is_registere...</td>\n",
       "      <td>USD</td>\n",
       "      <td>2015-11-21 05:53:03</td>\n",
       "      <td>1.000000</td>\n",
       "      <td>...</td>\n",
       "      <td>False</td>\n",
       "      <td>2015-09-22 04:53:03</td>\n",
       "      <td>{\"id\":2488853,\"name\":\"Santa Cruz\",\"slug\":\"sant...</td>\n",
       "      <td>Your Cafe</td>\n",
       "      <td>10.0</td>\n",
       "      <td>your-cafe</td>\n",
       "      <td>False</td>\n",
       "      <td>False</td>\n",
       "      <td>failed</td>\n",
       "      <td>2015-11-21 05:53:04</td>\n",
       "    </tr>\n",
       "    <tr>\n",
       "      <td>1</td>\n",
       "      <td>9</td>\n",
       "      <td>Patented tilting table technology makes this g...</td>\n",
       "      <td>{\"id\":271,\"name\":\"Live Games\",\"slug\":\"games/li...</td>\n",
       "      <td>1179</td>\n",
       "      <td>US</td>\n",
       "      <td>2015-12-22 15:24:32</td>\n",
       "      <td>{\"id\":480973030,\"name\":\"Lightwerks, LLC\",\"slug...</td>\n",
       "      <td>USD</td>\n",
       "      <td>2016-10-08 10:15:12</td>\n",
       "      <td>1.000000</td>\n",
       "      <td>...</td>\n",
       "      <td>False</td>\n",
       "      <td>2016-09-08 10:15:12</td>\n",
       "      <td>{\"id\":2525384,\"name\":\"Zionsville\",\"slug\":\"zion...</td>\n",
       "      <td>Tabletop Football--Best NEW Tailgating Game fo...</td>\n",
       "      <td>1179.0</td>\n",
       "      <td>tabletop-football-best-new-tailgating-game-for...</td>\n",
       "      <td>False</td>\n",
       "      <td>False</td>\n",
       "      <td>canceled</td>\n",
       "      <td>2016-09-23 12:49:10</td>\n",
       "    </tr>\n",
       "    <tr>\n",
       "      <td>2</td>\n",
       "      <td>11</td>\n",
       "      <td>magnetic window cleaner,you can stand outside ...</td>\n",
       "      <td>{\"id\":337,\"name\":\"Gadgets\",\"slug\":\"technology/...</td>\n",
       "      <td>311</td>\n",
       "      <td>US</td>\n",
       "      <td>2017-01-21 22:29:43</td>\n",
       "      <td>{\"id\":612501588,\"name\":\"mark woods\",\"is_regist...</td>\n",
       "      <td>USD</td>\n",
       "      <td>2017-03-04 20:36:00</td>\n",
       "      <td>1.000000</td>\n",
       "      <td>...</td>\n",
       "      <td>False</td>\n",
       "      <td>2017-02-04 15:08:59</td>\n",
       "      <td>{\"id\":2436075,\"name\":\"Lancaster\",\"slug\":\"lanca...</td>\n",
       "      <td>easy clean car window cleaner</td>\n",
       "      <td>311.0</td>\n",
       "      <td>easy-clean-car-window-cleaner</td>\n",
       "      <td>False</td>\n",
       "      <td>False</td>\n",
       "      <td>failed</td>\n",
       "      <td>2017-03-04 20:36:01</td>\n",
       "    </tr>\n",
       "    <tr>\n",
       "      <td>3</td>\n",
       "      <td>12</td>\n",
       "      <td>A spiral life planner created BY a chronic pai...</td>\n",
       "      <td>{\"id\":325,\"name\":\"Calendars\",\"slug\":\"publishin...</td>\n",
       "      <td>488</td>\n",
       "      <td>US</td>\n",
       "      <td>2018-08-26 17:48:34</td>\n",
       "      <td>{\"id\":520931083,\"name\":\"McKenna\",\"slug\":\"warri...</td>\n",
       "      <td>USD</td>\n",
       "      <td>2018-10-31 05:00:00</td>\n",
       "      <td>1.000000</td>\n",
       "      <td>...</td>\n",
       "      <td>False</td>\n",
       "      <td>2018-09-30 20:13:39</td>\n",
       "      <td>{\"id\":2442818,\"name\":\"Lubbock\",\"slug\":\"lubbock...</td>\n",
       "      <td>Warrior Life Planner</td>\n",
       "      <td>488.0</td>\n",
       "      <td>warrior-life-planner</td>\n",
       "      <td>False</td>\n",
       "      <td>False</td>\n",
       "      <td>failed</td>\n",
       "      <td>2018-10-31 05:00:00</td>\n",
       "    </tr>\n",
       "    <tr>\n",
       "      <td>4</td>\n",
       "      <td>39</td>\n",
       "      <td>A full-cast, feature-length audio drama produc...</td>\n",
       "      <td>{\"id\":239,\"name\":\"Radio &amp; Podcasts\",\"slug\":\"pu...</td>\n",
       "      <td>3809</td>\n",
       "      <td>GB</td>\n",
       "      <td>2019-01-12 09:42:29</td>\n",
       "      <td>{\"id\":129272378,\"name\":\"Graham Richards\",\"is_r...</td>\n",
       "      <td>GBP</td>\n",
       "      <td>2019-12-04 12:04:16</td>\n",
       "      <td>1.284937</td>\n",
       "      <td>...</td>\n",
       "      <td>True</td>\n",
       "      <td>2019-10-25 11:04:16</td>\n",
       "      <td>{\"id\":12602177,\"name\":\"West Sussex\",\"slug\":\"we...</td>\n",
       "      <td>HAWK THE SLAYER - Part One of an audio trilogy</td>\n",
       "      <td>2965.0</td>\n",
       "      <td>hawk-the-slayer-part-one-of-an-audio-trilogy</td>\n",
       "      <td>False</td>\n",
       "      <td>False</td>\n",
       "      <td>live</td>\n",
       "      <td>2019-10-25 11:04:17</td>\n",
       "    </tr>\n",
       "  </tbody>\n",
       "</table>\n",
       "<p>5 rows × 22 columns</p>\n",
       "</div>"
      ],
      "text/plain": [
       "   backers_count                                              blurb  \\\n",
       "0              1  Family Cafe and Brewery that serves our incred...   \n",
       "1              9  Patented tilting table technology makes this g...   \n",
       "2             11  magnetic window cleaner,you can stand outside ...   \n",
       "3             12  A spiral life planner created BY a chronic pai...   \n",
       "4             39  A full-cast, feature-length audio drama produc...   \n",
       "\n",
       "                                            category  \\\n",
       "0  {\"id\":312,\"name\":\"Restaurants\",\"slug\":\"food/re...   \n",
       "1  {\"id\":271,\"name\":\"Live Games\",\"slug\":\"games/li...   \n",
       "2  {\"id\":337,\"name\":\"Gadgets\",\"slug\":\"technology/...   \n",
       "3  {\"id\":325,\"name\":\"Calendars\",\"slug\":\"publishin...   \n",
       "4  {\"id\":239,\"name\":\"Radio & Podcasts\",\"slug\":\"pu...   \n",
       "\n",
       "   converted_pledged_amount country          created_at  \\\n",
       "0                        10      US 2015-09-18 00:49:52   \n",
       "1                      1179      US 2015-12-22 15:24:32   \n",
       "2                       311      US 2017-01-21 22:29:43   \n",
       "3                       488      US 2018-08-26 17:48:34   \n",
       "4                      3809      GB 2019-01-12 09:42:29   \n",
       "\n",
       "                                             creator currency  \\\n",
       "0  {\"id\":404037385,\"name\":\"tina vo\",\"is_registere...      USD   \n",
       "1  {\"id\":480973030,\"name\":\"Lightwerks, LLC\",\"slug...      USD   \n",
       "2  {\"id\":612501588,\"name\":\"mark woods\",\"is_regist...      USD   \n",
       "3  {\"id\":520931083,\"name\":\"McKenna\",\"slug\":\"warri...      USD   \n",
       "4  {\"id\":129272378,\"name\":\"Graham Richards\",\"is_r...      GBP   \n",
       "\n",
       "             deadline   fx_rate  ...  is_starrable         launched_at  \\\n",
       "0 2015-11-21 05:53:03  1.000000  ...         False 2015-09-22 04:53:03   \n",
       "1 2016-10-08 10:15:12  1.000000  ...         False 2016-09-08 10:15:12   \n",
       "2 2017-03-04 20:36:00  1.000000  ...         False 2017-02-04 15:08:59   \n",
       "3 2018-10-31 05:00:00  1.000000  ...         False 2018-09-30 20:13:39   \n",
       "4 2019-12-04 12:04:16  1.284937  ...          True 2019-10-25 11:04:16   \n",
       "\n",
       "                                            location  \\\n",
       "0  {\"id\":2488853,\"name\":\"Santa Cruz\",\"slug\":\"sant...   \n",
       "1  {\"id\":2525384,\"name\":\"Zionsville\",\"slug\":\"zion...   \n",
       "2  {\"id\":2436075,\"name\":\"Lancaster\",\"slug\":\"lanca...   \n",
       "3  {\"id\":2442818,\"name\":\"Lubbock\",\"slug\":\"lubbock...   \n",
       "4  {\"id\":12602177,\"name\":\"West Sussex\",\"slug\":\"we...   \n",
       "\n",
       "                                                name pledged  \\\n",
       "0                                          Your Cafe    10.0   \n",
       "1  Tabletop Football--Best NEW Tailgating Game fo...  1179.0   \n",
       "2                      easy clean car window cleaner   311.0   \n",
       "3                               Warrior Life Planner   488.0   \n",
       "4     HAWK THE SLAYER - Part One of an audio trilogy  2965.0   \n",
       "\n",
       "                                                slug  spotlight staff_pick  \\\n",
       "0                                          your-cafe      False      False   \n",
       "1  tabletop-football-best-new-tailgating-game-for...      False      False   \n",
       "2                      easy-clean-car-window-cleaner      False      False   \n",
       "3                               warrior-life-planner      False      False   \n",
       "4       hawk-the-slayer-part-one-of-an-audio-trilogy      False      False   \n",
       "\n",
       "      state    state_changed_at  \n",
       "0    failed 2015-11-21 05:53:04  \n",
       "1  canceled 2016-09-23 12:49:10  \n",
       "2    failed 2017-03-04 20:36:01  \n",
       "3    failed 2018-10-31 05:00:00  \n",
       "4      live 2019-10-25 11:04:17  \n",
       "\n",
       "[5 rows x 22 columns]"
      ]
     },
     "execution_count": 7,
     "metadata": {},
     "output_type": "execute_result"
    }
   ],
   "source": [
    "timefields = ['created_at','deadline','launched_at','state_changed_at']\n",
    "dc.convert_time(df,timefields)\n",
    "print('sanity check')\n",
    "df.head()"
   ]
  },
  {
   "cell_type": "markdown",
   "metadata": {},
   "source": [
    "Another inconviniency in this dataset is that some of the fields are given in json form, specificaly the 'catagory' and 'creator' attributs. We'll parse just the interesting parts out of these fields and remove all bloat text."
   ]
  },
  {
   "cell_type": "code",
   "execution_count": 8,
   "metadata": {},
   "outputs": [],
   "source": [
    "dc.extract_creator(df) #replaces the creator json with creator id int\n",
    "dc.extract_catagories(df) #gets project catagory data"
   ]
  },
  {
   "cell_type": "markdown",
   "metadata": {},
   "source": [
    "Cool! now, one last check we need to do, is to check for duplicates in our dataset.\n",
    "If we find any duplicates (by project id). We will drop all earlier appearances of the same project. Note that this action sorts all projects by update date, so we need to take that in consideration up ahead."
   ]
  },
  {
   "cell_type": "code",
   "execution_count": 9,
   "metadata": {},
   "outputs": [
    {
     "name": "stdout",
     "output_type": "stream",
     "text": [
      "There are originaly  211,424 records in data\n",
      "After processing there are  184,535 records in data\n"
     ]
    }
   ],
   "source": [
    "print('There are originaly ', f'{num_recs:,}' , 'records in data')\n",
    "dc.remove_duplicates(df)\n",
    "num_recs = len(df.index)\n",
    "print('After processing there are ', f'{num_recs:,}' , 'records in data')"
   ]
  },
  {
   "cell_type": "markdown",
   "metadata": {},
   "source": [
    "One last thing that remains is to convert the goal amount which is the project's local currency (and not usd).\n",
    "Once this is done we no longer need the fx column as well (it is dropped by the function)."
   ]
  },
  {
   "cell_type": "code",
   "execution_count": 10,
   "metadata": {},
   "outputs": [],
   "source": [
    "dc.convert_goal(df)"
   ]
  },
  {
   "cell_type": "markdown",
   "metadata": {},
   "source": [
    "Now we are ready to begin exploring our data.\n",
    "As this is basicaly what we are asking, let's see how many projects of each status are in our dataset."
   ]
  },
  {
   "cell_type": "code",
   "execution_count": 11,
   "metadata": {},
   "outputs": [
    {
     "data": {
      "image/png": "[encoded data removed]",
      "text/plain": [
       "<Figure size 432x288 with 1 Axes>"
      ]
     },
     "metadata": {
      "needs_background": "light"
     },
     "output_type": "display_data"
    }
   ],
   "source": [
    "visio.plot_projStat(df)"
   ]
  },
  {
   "cell_type": "markdown",
   "metadata": {},
   "source": [
    "Since live projects can't be used, we'll clear them out and also unite suspended and canceled project to be labled as failed. which gives us:"
   ]
  },
  {
   "cell_type": "code",
   "execution_count": 12,
   "metadata": {},
   "outputs": [
    {
     "data": {
      "image/png": "[encoded data removed]",
      "text/plain": [
       "<Figure size 432x288 with 1 Axes>"
      ]
     },
     "metadata": {
      "needs_background": "light"
     },
     "output_type": "display_data"
    }
   ],
   "source": [
    "dc.fix_state(df)\n",
    "df.reset_index(drop=True, inplace=True)\n",
    "visio.plot_projStat(df)"
   ]
  },
  {
   "cell_type": "markdown",
   "metadata": {},
   "source": [
    "Projects by origin country:"
   ]
  },
  {
   "cell_type": "code",
   "execution_count": 13,
   "metadata": {
    "scrolled": true
   },
   "outputs": [
    {
     "data": {
      "text/plain": [
       "<matplotlib.axes._subplots.AxesSubplot at 0x7fdb64032210>"
      ]
     },
     "execution_count": 13,
     "metadata": {},
     "output_type": "execute_result"
    },
    {
     "data": {
      "image/png": "[encoded data removed]",
      "text/plain": [
       "<Figure size 432x288 with 1 Axes>"
      ]
     },
     "metadata": {
      "needs_background": "light"
     },
     "output_type": "display_data"
    }
   ],
   "source": [
    "df['country'].value_counts().plot.bar()"
   ]
  },
  {
   "cell_type": "code",
   "execution_count": 14,
   "metadata": {},
   "outputs": [
    {
     "data": {
      "text/plain": [
       "<matplotlib.axes._subplots.AxesSubplot at 0x7fdb79fb88d0>"
      ]
     },
     "execution_count": 14,
     "metadata": {},
     "output_type": "execute_result"
    },
    {
     "data": {
      "image/png": "[encoded data removed]",
      "text/plain": [
       "<Figure size 432x288 with 1 Axes>"
      ]
     },
     "metadata": {
      "needs_background": "light"
     },
     "output_type": "display_data"
    }
   ],
   "source": [
    "suc = df.loc[df['state'] == 'successful']\n",
    "f = df.loc[df['state'] == 'failed']\n",
    "sc = suc['country'].value_counts()\n",
    "sf = f['country'].value_counts()\n",
    "d = pd.DataFrame({'Successful': sc, 'failed': sf})\n",
    "d.plot.bar()"
   ]
  },
  {
   "cell_type": "markdown",
   "metadata": {},
   "source": [
    "Success rate by catagory"
   ]
  },
  {
   "cell_type": "code",
   "execution_count": 15,
   "metadata": {},
   "outputs": [
    {
     "data": {
      "text/plain": [
       "<matplotlib.axes._subplots.AxesSubplot at 0x7fdb758d3110>"
      ]
     },
     "execution_count": 15,
     "metadata": {},
     "output_type": "execute_result"
    },
    {
     "data": {
      "image/png": "[encoded data removed]",
      "text/plain": [
       "<Figure size 432x288 with 1 Axes>"
      ]
     },
     "metadata": {
      "needs_background": "light"
     },
     "output_type": "display_data"
    }
   ],
   "source": [
    "suc = df.loc[df['state'] == 'successful']\n",
    "f = df.loc[df['state'] == 'failed']\n",
    "sc = suc['parent_category'].value_counts()\n",
    "sf = f['parent_category'].value_counts()\n",
    "d = pd.DataFrame({'Successful': sc, 'failed': sf})\n",
    "d.plot.bar()"
   ]
  },
  {
   "cell_type": "code",
   "execution_count": 16,
   "metadata": {},
   "outputs": [
    {
     "name": "stdout",
     "output_type": "stream",
     "text": [
      "number of records out of range: 20116\n"
     ]
    },
    {
     "data": {
      "image/png": "[encoded data removed]",
      "text/plain": [
       "<Figure size 432x288 with 1 Axes>"
      ]
     },
     "metadata": {
      "needs_background": "light"
     },
     "output_type": "display_data"
    }
   ],
   "source": [
    "inner = df.loc[df['goal']<30000]\n",
    "sns.distplot(inner['goal']).set(xlim=(0))\n",
    "print('number of records out of range:',len(df.loc[df['goal']>30000]))"
   ]
  },
  {
   "cell_type": "code",
   "execution_count": 17,
   "metadata": {},
   "outputs": [
    {
     "name": "stdout",
     "output_type": "stream",
     "text": [
      "number of records out of range: 11401\n"
     ]
    },
    {
     "data": {
      "image/png": "[encoded data removed]",
      "text/plain": [
       "<Figure size 432x288 with 1 Axes>"
      ]
     },
     "metadata": {
      "needs_background": "light"
     },
     "output_type": "display_data"
    }
   ],
   "source": [
    "inner = df.loc[df['goal']>50000]\n",
    "inner = inner.loc[df['goal']<200000]\n",
    "sns.distplot(inner['goal']).set(xlim=(0))\n",
    "print('number of records out of range:',len(df.loc[df['goal']>50000]))"
   ]
  },
  {
   "cell_type": "code",
   "execution_count": 18,
   "metadata": {
    "scrolled": true
   },
   "outputs": [
    {
     "name": "stdout",
     "output_type": "stream",
     "text": [
      "number of records out of range: 20116\n"
     ]
    },
    {
     "data": {
      "image/png": "[encoded data removed]",
      "text/plain": [
       "<Figure size 432x288 with 1 Axes>"
      ]
     },
     "metadata": {
      "needs_background": "light"
     },
     "output_type": "display_data"
    }
   ],
   "source": [
    "inner = df.loc[df['converted_pledged_amount']<30000]\n",
    "sns.distplot(inner['converted_pledged_amount']).set(xlim=(0))\n",
    "print('number of records out of range:',len(df.loc[df['goal']>30000]))"
   ]
  },
  {
   "cell_type": "code",
   "execution_count": 19,
   "metadata": {},
   "outputs": [],
   "source": [
    "dc.add_ratio(df)"
   ]
  },
  {
   "cell_type": "code",
   "execution_count": 29,
   "metadata": {},
   "outputs": [
    {
     "data": {
      "text/plain": [
       "<matplotlib.axes._subplots.AxesSubplot at 0x7fdb7faa3cd0>"
      ]
     },
     "execution_count": 29,
     "metadata": {},
     "output_type": "execute_result"
    },
    {
     "data": {
      "image/png": "[encoded data removed]",
      "text/plain": [
       "<Figure size 432x288 with 1 Axes>"
      ]
     },
     "metadata": {
      "needs_background": "light"
     },
     "output_type": "display_data"
    }
   ],
   "source": [
    "cent = df.loc[df['goal']<30000]\n",
    "cent.plot.scatter(x='goal',y='converted_pledged_amount')"
   ]
  },
  {
   "cell_type": "code",
   "execution_count": null,
   "metadata": {},
   "outputs": [],
   "source": []
  }
 ],
 "metadata": {
  "kernelspec": {
   "display_name": "Python 3",
   "language": "python",
   "name": "python3"
  },
  "language_info": {
   "codemirror_mode": {
    "name": "ipython",
    "version": 3
   },
   "file_extension": ".py",
   "mimetype": "text/x-python",
   "name": "python",
   "nbconvert_exporter": "python",
   "pygments_lexer": "ipython3",
   "version": "3.7.4"
  }
 },
 "nbformat": 4,
 "nbformat_minor": 2
}
